{
 "cells": [
  {
   "cell_type": "markdown",
   "metadata": {
    "pycharm": {
     "name": "#%% md\n"
    }
   },
   "source": [
    "# Задание 1\n",
    "* Собрать информацию о всех строящихся объектах на сайте \"наш.дом.рф\"\n",
    "* Cохранить ее в pandas dataframe\n",
    "* Cохранить pandas dataframe в excel\n",
    "* Cохранить pandas dataframe в pickle\n",
    "* Cохранить pandas dataframe в БД\n",
    "\n",
    "# Задание 2\n",
    "* Выберите регион\n",
    "* Сравните среднюю цену квадратного метра в городах этого региона\n",
    "* Определите количество строящихся объектов и квартир в регионах\n",
    "* Определите объем строящегося жилья в квадратных метрах\n",
    "\n",
    "# Задание 3 *\n",
    "* Напишете скрипт, который сможет ежедневно собирать данные по цене, количестве и объему строящихся объектов самостоятельно и ежедневно\n",
    "* Попробуйте ускорить процесс\n",
    "* Добавьте возможность добавления данных в БД с указанием текущей даты."
   ]
  },
  {
   "cell_type": "code",
   "execution_count": 42,
   "metadata": {
    "pycharm": {
     "name": "#%%\n"
    }
   },
   "outputs": [],
   "source": [
    "import requests\n",
    "import re\n",
    "from tqdm.auto import tqdm\n",
    "import pandas as pd\n",
    "import numpy as np\n",
    "import sqlite3"
   ]
  },
  {
   "cell_type": "markdown",
   "metadata": {
    "pycharm": {
     "name": "#%% md\n"
    }
   },
   "source": [
    "## Список объектов"
   ]
  },
  {
   "cell_type": "code",
   "execution_count": 3,
   "metadata": {
    "pycharm": {
     "name": "#%%\n"
    }
   },
   "outputs": [],
   "source": [
    "# offset_ = 2001\n",
    "# limit_ = 1000\n",
    "# url = f'https://xn--80az8a.xn--d1aqf.xn--p1ai/%D1%81%D0%B5%D1%80%D0%B2%D0%B8%D1%81%D1%8B/api/kn/object?offset={offset_}&limit={limit_}&sortField=devId.devShortCleanNm&sortType=asc&objStatus=0'\n",
    "# response = requests.get(url)\n",
    "# objects_data = response.json() "
   ]
  },
  {
   "cell_type": "code",
   "execution_count": 6,
   "metadata": {
    "pycharm": {
     "name": "#%%\n"
    }
   },
   "outputs": [],
   "source": [
    "# objects_list = objects_data.get('data').get('list')"
   ]
  },
  {
   "cell_type": "code",
   "execution_count": 7,
   "metadata": {
    "pycharm": {
     "name": "#%%\n"
    }
   },
   "outputs": [],
   "source": [
    "# objids = [x.get('objId') for x in objects_list]"
   ]
  },
  {
   "cell_type": "code",
   "execution_count": 16,
   "metadata": {
    "pycharm": {
     "name": "#%%\n"
    }
   },
   "outputs": [],
   "source": [
    "# len(objids)"
   ]
  },
  {
   "cell_type": "code",
   "execution_count": 3,
   "metadata": {},
   "outputs": [
    {
     "data": {
      "application/vnd.jupyter.widget-view+json": {
       "model_id": "ec9e893f4522434b83ebef3948f83db4",
       "version_major": 2,
       "version_minor": 0
      },
      "text/plain": [
       "  0%|          | 0/12 [00:00<?, ?it/s]"
      ]
     },
     "metadata": {},
     "output_type": "display_data"
    },
    {
     "name": "stdout",
     "output_type": "stream",
     "text": [
      "Список ID объектов собран\n"
     ]
    }
   ],
   "source": [
    "limit_ = 1000\n",
    "all_obj_ids = []\n",
    "for offset_ in tqdm(range(0, 12000, 1000)):\n",
    "    url = f'https://xn--80az8a.xn--d1aqf.xn--p1ai/%D1%81%D0%B5%D1%80%D0%B2%D0%B8%D1%81%D1%8B/api/kn/object?offset={offset_}&limit={limit_}&sortField=devId.devShortCleanNm&sortType=asc&objStatus=0'\n",
    "    response = requests.get(url)\n",
    "    objects_data = response.json()\n",
    "    objects_list = objects_data.get('data').get('list')\n",
    "    objids = [x.get('objId') for x in objects_list]\n",
    "    all_obj_ids.extend(objids)\n",
    "    \n",
    "print(\"Список ID объектов собран\")"
   ]
  },
  {
   "cell_type": "code",
   "execution_count": 23,
   "metadata": {},
   "outputs": [
    {
     "data": {
      "text/plain": [
       "10076"
      ]
     },
     "execution_count": 23,
     "metadata": {},
     "output_type": "execute_result"
    }
   ],
   "source": [
    "len(all_obj_ids)"
   ]
  },
  {
   "cell_type": "markdown",
   "metadata": {
    "pycharm": {
     "name": "#%% md\n"
    }
   },
   "source": [
    "# Данные по определенному объекту"
   ]
  },
  {
   "cell_type": "code",
   "execution_count": 4,
   "metadata": {
    "pycharm": {
     "name": "#%%\n"
    }
   },
   "outputs": [
    {
     "data": {
      "application/vnd.jupyter.widget-view+json": {
       "model_id": "43839059b54f4d8fa5fe524d862a866b",
       "version_major": 2,
       "version_minor": 0
      },
      "text/plain": [
       "  0%|          | 0/10076 [00:00<?, ?it/s]"
      ]
     },
     "metadata": {},
     "output_type": "display_data"
    },
    {
     "name": "stdout",
     "output_type": "stream",
     "text": [
      "Список объектов собран\n"
     ]
    }
   ],
   "source": [
    "all_objects_description = []\n",
    "\n",
    "for id in tqdm(all_obj_ids):\n",
    "    url = f'https://xn--80az8a.xn--d1aqf.xn--p1ai/%D1%81%D0%B5%D1%80%D0%B2%D0%B8%D1%81%D1%8B/api/object/{id}'\n",
    "    response_object = requests.get(url)\n",
    "    obj = response_object.json()\n",
    "    all_objects_description.append(obj)\n",
    "\n",
    "print('Список объектов собран')"
   ]
  },
  {
   "cell_type": "code",
   "execution_count": 72,
   "metadata": {
    "pycharm": {
     "name": "#%%\n"
    }
   },
   "outputs": [
    {
     "data": {
      "text/plain": [
       "{'data': {'id': 23682,\n",
       "  'pdId': 64486,\n",
       "  'developer': {'devId': 6811,\n",
       "   'devShortCleanNm': '84 ВЫСОТА',\n",
       "   'devShortNm': '84 ВЫСОТА',\n",
       "   'devFullCleanNm': '84 ВЫСОТА',\n",
       "   'problObjCnt': 0,\n",
       "   'buildObjCnt': 1,\n",
       "   'comissObjCnt': 6,\n",
       "   'regRegionDesc': 'Санкт-Петербург город',\n",
       "   'devPhoneNum': '+7(812)309-84-09',\n",
       "   'devSite': 'www.84visota.ru',\n",
       "   'devEmail': '84visota@mail.ru',\n",
       "   'devInn': '7806536079',\n",
       "   'devOgrn': '1147847382627',\n",
       "   'devKpp': '780601001',\n",
       "   'devLegalAddr': 'город Санкт-Петербург, улица Белорусская дом 12 корпус 1 литера А помещение 1Н',\n",
       "   'devFactAddr': 'г Санкт-Петербург ул. Белорусская д. 12 кор. 1 стр. лит. А помещение 1Н',\n",
       "   'lastRpdId': 529403,\n",
       "   'fundGuarantyFlg': 1,\n",
       "   'devOrgRegRegionCd': 78,\n",
       "   'devEmplMainFullNm': 'Искрицкий Максим Николаевич',\n",
       "   'developerGroupName': '84 Высота',\n",
       "   'orgForm': {'id': 4,\n",
       "    'fullForm': 'Общество с ограниченной ответственностью',\n",
       "    'shortForm': 'ООО'},\n",
       "   'companyGroupId': 5562608001,\n",
       "   'objGuarantyEscrowFlg': 0,\n",
       "   'govFundFlg': 0},\n",
       "  'region': 47,\n",
       "  'address': 'д Агалатово',\n",
       "  'nameObj': 'Жилой комплекс \"84 высота\"',\n",
       "  'floorMin': 10,\n",
       "  'floorMax': 10,\n",
       "  'objElemLivingCnt': 54,\n",
       "  'objReady100PercDt': '2022-06-30',\n",
       "  'wallMaterialShortDesc': 'Блоки',\n",
       "  'objLkFinishTypeDesc': 'Без отделки',\n",
       "  'objLkFreePlanDesc': 'Нет',\n",
       "  'objElemParkingCnt': 0,\n",
       "  'objSquareLiving': 2748.15,\n",
       "  'rpdNum': '47-000416',\n",
       "  'rpdPdfLink': 'https://xn--80az8a.xn--d1aqf.xn--p1ai/api/ext/file/0432f9f8-a629-41ad-a4cc-bef3e2dcab73',\n",
       "  'rpdIssueDttm': '22-12-2021 13:00',\n",
       "  'objLkLatitude': '60.2152',\n",
       "  'objLkLongitude': '30.3089',\n",
       "  'objCompensFundFlg': 1,\n",
       "  'objProblemFlg': 0,\n",
       "  'objLkClassDesc': 'Типовой',\n",
       "  'loadDttm': '03-05-2022 01:10',\n",
       "  'photoRenderDTO': [{'objId': 23682,\n",
       "    'pdId': 64486,\n",
       "    'rpdId': 529403,\n",
       "    'devId': 6811,\n",
       "    'ordNum': 1,\n",
       "    'objRenderPhotoSize': 267432,\n",
       "    'objRenderPhotoUrl': 'https://xn--80az8a.xn--d1aqf.xn--p1ai/api/ext/file/adca65ce-ab57-4c36-9714-9a9cd846259a',\n",
       "    'objRenderPhotoDttm': '10-11-2020 14:08',\n",
       "    'objRenderPhotoHiddenFlg': 0,\n",
       "    'objRenderPhotoNm': '2.jpg',\n",
       "    'objReadyDesc': 'Строится',\n",
       "    'objBuildTypeShortDesc': 'Жилое',\n",
       "    'knFlg': 1,\n",
       "    'loadDttm': '03-05-2022 00:55'}],\n",
       "  'objGuarantyEscrowFlg': 0,\n",
       "  'objectType': 'normal',\n",
       "  'miniUrl': 'https://xn--80az8a.xn--d1aqf.xn--p1ai/api/ext/file/1e040c60-4f2e-45dc-9a72-e5e4fc103fe9',\n",
       "  'residentialBuildings': 1,\n",
       "  'newBuildingId': 25764,\n",
       "  'objFloorCnt': 10,\n",
       "  'objFlatCnt': 54,\n",
       "  'objFlatSq': '2748.15',\n",
       "  'objNonlivElemCnt': 1,\n",
       "  'quartography': {'objLivElem1KCnt': 27,\n",
       "   'objLivElem2KCnt': 18,\n",
       "   'objLivElem3KCnt': 9,\n",
       "   'objLivElem4KCnt': 0,\n",
       "   'objLivElemCnt': 54,\n",
       "   'objLivElemEntrCnt': 1,\n",
       "   'objLivElemEntrFloorAvg': 6},\n",
       "  'objStatus': 0,\n",
       "  'isAvailableWantLiveHere': True,\n",
       "  'objTransferPlanDt': '31-12-2022 12:00',\n",
       "  'objLivCeilingHeight': '2,73',\n",
       "  'objInfrstrBicycleLaneFlg': 0,\n",
       "  'objInfrstrPlaygrndCnt': 1,\n",
       "  'objInfrstrSportGroundCnt': 1,\n",
       "  'objInfrstrTrashAreaCnt': 1,\n",
       "  'objInfrstrObjPrkngCnt': 168,\n",
       "  'objInfrstrNotObjPrkngCnt': 15,\n",
       "  'objInfrstrRampFlg': 1,\n",
       "  'objInfrstrCurbLoweringFlg': 1,\n",
       "  'objElevatorWheelchairCnt': 0,\n",
       "  'objElevatorPassengerCnt': 1,\n",
       "  'objElevatorCargoCnt': 0,\n",
       "  'soldOutPerc': 0.998908356530757,\n",
       "  'objPriceAvg': 54859,\n",
       "  'generalContractorNm': 'ООО Строительно-Монтажное Управление № 73 (ИНН: 7814244129)',\n",
       "  'nonlivFirstFloor': 0,\n",
       "  'objectTransportInfo': [],\n",
       "  'conclusion': False,\n",
       "  'objLkSaleDepEmail': '84visota@mail.ru',\n",
       "  'objGreenHouseFlg': 0,\n",
       "  'objEnergyEffShortDesc': 'B',\n",
       "  'infrastructureIndexValue': 3},\n",
       " 'errcode': '0'}"
      ]
     },
     "execution_count": 72,
     "metadata": {},
     "output_type": "execute_result"
    }
   ],
   "source": [
    "all_objects_description[5]"
   ]
  },
  {
   "cell_type": "code",
   "execution_count": 61,
   "metadata": {},
   "outputs": [],
   "source": [
    "# преобразовали список 'all_objects_description' в DataFrame\n",
    "\n",
    "df = pd.DataFrame.from_dict(pd.json_normalize(all_objects_description), orient='columns')"
   ]
  },
  {
   "cell_type": "code",
   "execution_count": 62,
   "metadata": {},
   "outputs": [
    {
     "data": {
      "text/html": [
       "<div>\n",
       "<style scoped>\n",
       "    .dataframe tbody tr th:only-of-type {\n",
       "        vertical-align: middle;\n",
       "    }\n",
       "\n",
       "    .dataframe tbody tr th {\n",
       "        vertical-align: top;\n",
       "    }\n",
       "\n",
       "    .dataframe thead th {\n",
       "        text-align: right;\n",
       "    }\n",
       "</style>\n",
       "<table border=\"1\" class=\"dataframe\">\n",
       "  <thead>\n",
       "    <tr style=\"text-align: right;\">\n",
       "      <th></th>\n",
       "      <th>errcode</th>\n",
       "      <th>data.id</th>\n",
       "      <th>data.pdId</th>\n",
       "      <th>data.developer.devId</th>\n",
       "      <th>data.developer.devShortCleanNm</th>\n",
       "      <th>data.developer.devShortNm</th>\n",
       "      <th>data.developer.devFullCleanNm</th>\n",
       "      <th>data.developer.problObjCnt</th>\n",
       "      <th>data.developer.buildObjCnt</th>\n",
       "      <th>data.developer.comissObjCnt</th>\n",
       "      <th>...</th>\n",
       "      <th>data.metro.colors</th>\n",
       "      <th>data.transportDistIndex</th>\n",
       "      <th>data.transportDistIndexValue</th>\n",
       "      <th>data.greenAreaIndexValue</th>\n",
       "      <th>data.airQualityIndexValue</th>\n",
       "      <th>data.complexShortNm</th>\n",
       "      <th>data.developer.bankruptStage.bankruptStageCd</th>\n",
       "      <th>data.developer.bankruptStage.bankruptStageDesc</th>\n",
       "      <th>data.developer.bankruptStage.bankruptLawUrl</th>\n",
       "      <th>data.developer.orgBankruptMsgDttm</th>\n",
       "    </tr>\n",
       "  </thead>\n",
       "  <tbody>\n",
       "    <tr>\n",
       "      <th>0</th>\n",
       "      <td>0</td>\n",
       "      <td>13391</td>\n",
       "      <td>28101</td>\n",
       "      <td>306</td>\n",
       "      <td>2МЕН ГРУПП</td>\n",
       "      <td>2МЕН ГРУПП</td>\n",
       "      <td>2МЕН ГРУПП</td>\n",
       "      <td>0</td>\n",
       "      <td>5</td>\n",
       "      <td>0</td>\n",
       "      <td>...</td>\n",
       "      <td>NaN</td>\n",
       "      <td>NaN</td>\n",
       "      <td>NaN</td>\n",
       "      <td>NaN</td>\n",
       "      <td>NaN</td>\n",
       "      <td>NaN</td>\n",
       "      <td>NaN</td>\n",
       "      <td>NaN</td>\n",
       "      <td>NaN</td>\n",
       "      <td>NaN</td>\n",
       "    </tr>\n",
       "    <tr>\n",
       "      <th>1</th>\n",
       "      <td>0</td>\n",
       "      <td>13383</td>\n",
       "      <td>28105</td>\n",
       "      <td>306</td>\n",
       "      <td>2МЕН ГРУПП</td>\n",
       "      <td>2МЕН ГРУПП</td>\n",
       "      <td>2МЕН ГРУПП</td>\n",
       "      <td>0</td>\n",
       "      <td>5</td>\n",
       "      <td>0</td>\n",
       "      <td>...</td>\n",
       "      <td>NaN</td>\n",
       "      <td>NaN</td>\n",
       "      <td>NaN</td>\n",
       "      <td>NaN</td>\n",
       "      <td>NaN</td>\n",
       "      <td>NaN</td>\n",
       "      <td>NaN</td>\n",
       "      <td>NaN</td>\n",
       "      <td>NaN</td>\n",
       "      <td>NaN</td>\n",
       "    </tr>\n",
       "    <tr>\n",
       "      <th>2</th>\n",
       "      <td>0</td>\n",
       "      <td>13397</td>\n",
       "      <td>28141</td>\n",
       "      <td>306</td>\n",
       "      <td>2МЕН ГРУПП</td>\n",
       "      <td>2МЕН ГРУПП</td>\n",
       "      <td>2МЕН ГРУПП</td>\n",
       "      <td>0</td>\n",
       "      <td>5</td>\n",
       "      <td>0</td>\n",
       "      <td>...</td>\n",
       "      <td>NaN</td>\n",
       "      <td>NaN</td>\n",
       "      <td>NaN</td>\n",
       "      <td>NaN</td>\n",
       "      <td>NaN</td>\n",
       "      <td>NaN</td>\n",
       "      <td>NaN</td>\n",
       "      <td>NaN</td>\n",
       "      <td>NaN</td>\n",
       "      <td>NaN</td>\n",
       "    </tr>\n",
       "    <tr>\n",
       "      <th>3</th>\n",
       "      <td>0</td>\n",
       "      <td>13398</td>\n",
       "      <td>28141</td>\n",
       "      <td>306</td>\n",
       "      <td>2МЕН ГРУПП</td>\n",
       "      <td>2МЕН ГРУПП</td>\n",
       "      <td>2МЕН ГРУПП</td>\n",
       "      <td>0</td>\n",
       "      <td>5</td>\n",
       "      <td>0</td>\n",
       "      <td>...</td>\n",
       "      <td>NaN</td>\n",
       "      <td>NaN</td>\n",
       "      <td>NaN</td>\n",
       "      <td>NaN</td>\n",
       "      <td>NaN</td>\n",
       "      <td>NaN</td>\n",
       "      <td>NaN</td>\n",
       "      <td>NaN</td>\n",
       "      <td>NaN</td>\n",
       "      <td>NaN</td>\n",
       "    </tr>\n",
       "    <tr>\n",
       "      <th>4</th>\n",
       "      <td>0</td>\n",
       "      <td>13399</td>\n",
       "      <td>28141</td>\n",
       "      <td>306</td>\n",
       "      <td>2МЕН ГРУПП</td>\n",
       "      <td>2МЕН ГРУПП</td>\n",
       "      <td>2МЕН ГРУПП</td>\n",
       "      <td>0</td>\n",
       "      <td>5</td>\n",
       "      <td>0</td>\n",
       "      <td>...</td>\n",
       "      <td>NaN</td>\n",
       "      <td>NaN</td>\n",
       "      <td>NaN</td>\n",
       "      <td>NaN</td>\n",
       "      <td>NaN</td>\n",
       "      <td>NaN</td>\n",
       "      <td>NaN</td>\n",
       "      <td>NaN</td>\n",
       "      <td>NaN</td>\n",
       "      <td>NaN</td>\n",
       "    </tr>\n",
       "  </tbody>\n",
       "</table>\n",
       "<p>5 rows × 109 columns</p>\n",
       "</div>"
      ],
      "text/plain": [
       "  errcode  data.id  data.pdId  data.developer.devId  \\\n",
       "0       0    13391      28101                   306   \n",
       "1       0    13383      28105                   306   \n",
       "2       0    13397      28141                   306   \n",
       "3       0    13398      28141                   306   \n",
       "4       0    13399      28141                   306   \n",
       "\n",
       "  data.developer.devShortCleanNm data.developer.devShortNm  \\\n",
       "0                     2МЕН ГРУПП                2МЕН ГРУПП   \n",
       "1                     2МЕН ГРУПП                2МЕН ГРУПП   \n",
       "2                     2МЕН ГРУПП                2МЕН ГРУПП   \n",
       "3                     2МЕН ГРУПП                2МЕН ГРУПП   \n",
       "4                     2МЕН ГРУПП                2МЕН ГРУПП   \n",
       "\n",
       "  data.developer.devFullCleanNm  data.developer.problObjCnt  \\\n",
       "0                    2МЕН ГРУПП                           0   \n",
       "1                    2МЕН ГРУПП                           0   \n",
       "2                    2МЕН ГРУПП                           0   \n",
       "3                    2МЕН ГРУПП                           0   \n",
       "4                    2МЕН ГРУПП                           0   \n",
       "\n",
       "   data.developer.buildObjCnt  data.developer.comissObjCnt  ...  \\\n",
       "0                           5                            0  ...   \n",
       "1                           5                            0  ...   \n",
       "2                           5                            0  ...   \n",
       "3                           5                            0  ...   \n",
       "4                           5                            0  ...   \n",
       "\n",
       "  data.metro.colors data.transportDistIndex data.transportDistIndexValue  \\\n",
       "0               NaN                     NaN                          NaN   \n",
       "1               NaN                     NaN                          NaN   \n",
       "2               NaN                     NaN                          NaN   \n",
       "3               NaN                     NaN                          NaN   \n",
       "4               NaN                     NaN                          NaN   \n",
       "\n",
       "  data.greenAreaIndexValue data.airQualityIndexValue data.complexShortNm  \\\n",
       "0                      NaN                       NaN                 NaN   \n",
       "1                      NaN                       NaN                 NaN   \n",
       "2                      NaN                       NaN                 NaN   \n",
       "3                      NaN                       NaN                 NaN   \n",
       "4                      NaN                       NaN                 NaN   \n",
       "\n",
       "  data.developer.bankruptStage.bankruptStageCd  \\\n",
       "0                                          NaN   \n",
       "1                                          NaN   \n",
       "2                                          NaN   \n",
       "3                                          NaN   \n",
       "4                                          NaN   \n",
       "\n",
       "  data.developer.bankruptStage.bankruptStageDesc  \\\n",
       "0                                            NaN   \n",
       "1                                            NaN   \n",
       "2                                            NaN   \n",
       "3                                            NaN   \n",
       "4                                            NaN   \n",
       "\n",
       "  data.developer.bankruptStage.bankruptLawUrl  \\\n",
       "0                                         NaN   \n",
       "1                                         NaN   \n",
       "2                                         NaN   \n",
       "3                                         NaN   \n",
       "4                                         NaN   \n",
       "\n",
       "   data.developer.orgBankruptMsgDttm  \n",
       "0                                NaN  \n",
       "1                                NaN  \n",
       "2                                NaN  \n",
       "3                                NaN  \n",
       "4                                NaN  \n",
       "\n",
       "[5 rows x 109 columns]"
      ]
     },
     "execution_count": 62,
     "metadata": {},
     "output_type": "execute_result"
    }
   ],
   "source": [
    "df.head()"
   ]
  },
  {
   "cell_type": "code",
   "execution_count": 13,
   "metadata": {},
   "outputs": [
    {
     "name": "stdout",
     "output_type": "stream",
     "text": [
      "<class 'pandas.core.frame.DataFrame'>\n",
      "RangeIndex: 10076 entries, 0 to 10075\n",
      "Columns: 109 entries, errcode to data.developer.orgBankruptMsgDttm\n",
      "dtypes: bool(2), float64(26), int64(30), object(51)\n",
      "memory usage: 8.2+ MB\n"
     ]
    }
   ],
   "source": [
    "df.info()"
   ]
  },
  {
   "cell_type": "code",
   "execution_count": 15,
   "metadata": {},
   "outputs": [
    {
     "name": "stdout",
     "output_type": "stream",
     "text": [
      "DataFrame успешно сохранен в Excel файл\n"
     ]
    }
   ],
   "source": [
    "# Cохранить pandas dataframe в excel\n",
    "\n",
    "writer = pd.ExcelWriter(\"houses_under_construction.xlsx\", engine = 'xlsxwriter')\n",
    "df.to_excel(writer)\n",
    "writer.save()\n",
    "print('DataFrame успешно сохранен в Excel файл')"
   ]
  },
  {
   "cell_type": "code",
   "execution_count": 24,
   "metadata": {},
   "outputs": [],
   "source": [
    "# pd.read_excel(\"houses_under_construction.xlsx\", index_col=0)"
   ]
  },
  {
   "cell_type": "code",
   "execution_count": 16,
   "metadata": {},
   "outputs": [
    {
     "name": "stdout",
     "output_type": "stream",
     "text": [
      "DataFrame успешно сохранен в pickle файл\n"
     ]
    }
   ],
   "source": [
    "# Cохранить pandas dataframe в pickle\n",
    "\n",
    "df.to_pickle('houses_under_construction.pkl')\n",
    "\n",
    "print('DataFrame успешно сохранен в pickle файл')"
   ]
  },
  {
   "cell_type": "code",
   "execution_count": 2,
   "metadata": {},
   "outputs": [],
   "source": [
    "# pd.read_pickle('houses_under_construction.pkl')"
   ]
  },
  {
   "cell_type": "code",
   "execution_count": 41,
   "metadata": {},
   "outputs": [],
   "source": [
    "# скопируем DataFrame, чтобы удалить столбцы и записать в БД\n",
    "df_1 = df.copy()"
   ]
  },
  {
   "cell_type": "code",
   "execution_count": 68,
   "metadata": {},
   "outputs": [
    {
     "data": {
      "text/html": [
       "<div>\n",
       "<style scoped>\n",
       "    .dataframe tbody tr th:only-of-type {\n",
       "        vertical-align: middle;\n",
       "    }\n",
       "\n",
       "    .dataframe tbody tr th {\n",
       "        vertical-align: top;\n",
       "    }\n",
       "\n",
       "    .dataframe thead th {\n",
       "        text-align: right;\n",
       "    }\n",
       "</style>\n",
       "<table border=\"1\" class=\"dataframe\">\n",
       "  <thead>\n",
       "    <tr style=\"text-align: right;\">\n",
       "      <th></th>\n",
       "      <th>errcode</th>\n",
       "      <th>data.id</th>\n",
       "      <th>data.pdId</th>\n",
       "      <th>data.developer.devId</th>\n",
       "      <th>data.developer.devShortCleanNm</th>\n",
       "      <th>data.developer.devShortNm</th>\n",
       "      <th>data.developer.devFullCleanNm</th>\n",
       "      <th>data.developer.problObjCnt</th>\n",
       "      <th>data.developer.buildObjCnt</th>\n",
       "      <th>data.developer.comissObjCnt</th>\n",
       "      <th>...</th>\n",
       "      <th>data.metro.isWalk</th>\n",
       "      <th>data.transportDistIndex</th>\n",
       "      <th>data.transportDistIndexValue</th>\n",
       "      <th>data.greenAreaIndexValue</th>\n",
       "      <th>data.airQualityIndexValue</th>\n",
       "      <th>data.complexShortNm</th>\n",
       "      <th>data.developer.bankruptStage.bankruptStageCd</th>\n",
       "      <th>data.developer.bankruptStage.bankruptStageDesc</th>\n",
       "      <th>data.developer.bankruptStage.bankruptLawUrl</th>\n",
       "      <th>data.developer.orgBankruptMsgDttm</th>\n",
       "    </tr>\n",
       "  </thead>\n",
       "  <tbody>\n",
       "    <tr>\n",
       "      <th>0</th>\n",
       "      <td>0</td>\n",
       "      <td>13391</td>\n",
       "      <td>28101</td>\n",
       "      <td>306</td>\n",
       "      <td>2МЕН ГРУПП</td>\n",
       "      <td>2МЕН ГРУПП</td>\n",
       "      <td>2МЕН ГРУПП</td>\n",
       "      <td>0</td>\n",
       "      <td>5</td>\n",
       "      <td>0</td>\n",
       "      <td>...</td>\n",
       "      <td>NaN</td>\n",
       "      <td>NaN</td>\n",
       "      <td>NaN</td>\n",
       "      <td>NaN</td>\n",
       "      <td>NaN</td>\n",
       "      <td>NaN</td>\n",
       "      <td>NaN</td>\n",
       "      <td>NaN</td>\n",
       "      <td>NaN</td>\n",
       "      <td>NaN</td>\n",
       "    </tr>\n",
       "    <tr>\n",
       "      <th>1</th>\n",
       "      <td>0</td>\n",
       "      <td>13383</td>\n",
       "      <td>28105</td>\n",
       "      <td>306</td>\n",
       "      <td>2МЕН ГРУПП</td>\n",
       "      <td>2МЕН ГРУПП</td>\n",
       "      <td>2МЕН ГРУПП</td>\n",
       "      <td>0</td>\n",
       "      <td>5</td>\n",
       "      <td>0</td>\n",
       "      <td>...</td>\n",
       "      <td>NaN</td>\n",
       "      <td>NaN</td>\n",
       "      <td>NaN</td>\n",
       "      <td>NaN</td>\n",
       "      <td>NaN</td>\n",
       "      <td>NaN</td>\n",
       "      <td>NaN</td>\n",
       "      <td>NaN</td>\n",
       "      <td>NaN</td>\n",
       "      <td>NaN</td>\n",
       "    </tr>\n",
       "    <tr>\n",
       "      <th>2</th>\n",
       "      <td>0</td>\n",
       "      <td>13397</td>\n",
       "      <td>28141</td>\n",
       "      <td>306</td>\n",
       "      <td>2МЕН ГРУПП</td>\n",
       "      <td>2МЕН ГРУПП</td>\n",
       "      <td>2МЕН ГРУПП</td>\n",
       "      <td>0</td>\n",
       "      <td>5</td>\n",
       "      <td>0</td>\n",
       "      <td>...</td>\n",
       "      <td>NaN</td>\n",
       "      <td>NaN</td>\n",
       "      <td>NaN</td>\n",
       "      <td>NaN</td>\n",
       "      <td>NaN</td>\n",
       "      <td>NaN</td>\n",
       "      <td>NaN</td>\n",
       "      <td>NaN</td>\n",
       "      <td>NaN</td>\n",
       "      <td>NaN</td>\n",
       "    </tr>\n",
       "    <tr>\n",
       "      <th>3</th>\n",
       "      <td>0</td>\n",
       "      <td>13398</td>\n",
       "      <td>28141</td>\n",
       "      <td>306</td>\n",
       "      <td>2МЕН ГРУПП</td>\n",
       "      <td>2МЕН ГРУПП</td>\n",
       "      <td>2МЕН ГРУПП</td>\n",
       "      <td>0</td>\n",
       "      <td>5</td>\n",
       "      <td>0</td>\n",
       "      <td>...</td>\n",
       "      <td>NaN</td>\n",
       "      <td>NaN</td>\n",
       "      <td>NaN</td>\n",
       "      <td>NaN</td>\n",
       "      <td>NaN</td>\n",
       "      <td>NaN</td>\n",
       "      <td>NaN</td>\n",
       "      <td>NaN</td>\n",
       "      <td>NaN</td>\n",
       "      <td>NaN</td>\n",
       "    </tr>\n",
       "    <tr>\n",
       "      <th>4</th>\n",
       "      <td>0</td>\n",
       "      <td>13399</td>\n",
       "      <td>28141</td>\n",
       "      <td>306</td>\n",
       "      <td>2МЕН ГРУПП</td>\n",
       "      <td>2МЕН ГРУПП</td>\n",
       "      <td>2МЕН ГРУПП</td>\n",
       "      <td>0</td>\n",
       "      <td>5</td>\n",
       "      <td>0</td>\n",
       "      <td>...</td>\n",
       "      <td>NaN</td>\n",
       "      <td>NaN</td>\n",
       "      <td>NaN</td>\n",
       "      <td>NaN</td>\n",
       "      <td>NaN</td>\n",
       "      <td>NaN</td>\n",
       "      <td>NaN</td>\n",
       "      <td>NaN</td>\n",
       "      <td>NaN</td>\n",
       "      <td>NaN</td>\n",
       "    </tr>\n",
       "  </tbody>\n",
       "</table>\n",
       "<p>5 rows × 106 columns</p>\n",
       "</div>"
      ],
      "text/plain": [
       "  errcode  data.id  data.pdId  data.developer.devId  \\\n",
       "0       0    13391      28101                   306   \n",
       "1       0    13383      28105                   306   \n",
       "2       0    13397      28141                   306   \n",
       "3       0    13398      28141                   306   \n",
       "4       0    13399      28141                   306   \n",
       "\n",
       "  data.developer.devShortCleanNm data.developer.devShortNm  \\\n",
       "0                     2МЕН ГРУПП                2МЕН ГРУПП   \n",
       "1                     2МЕН ГРУПП                2МЕН ГРУПП   \n",
       "2                     2МЕН ГРУПП                2МЕН ГРУПП   \n",
       "3                     2МЕН ГРУПП                2МЕН ГРУПП   \n",
       "4                     2МЕН ГРУПП                2МЕН ГРУПП   \n",
       "\n",
       "  data.developer.devFullCleanNm  data.developer.problObjCnt  \\\n",
       "0                    2МЕН ГРУПП                           0   \n",
       "1                    2МЕН ГРУПП                           0   \n",
       "2                    2МЕН ГРУПП                           0   \n",
       "3                    2МЕН ГРУПП                           0   \n",
       "4                    2МЕН ГРУПП                           0   \n",
       "\n",
       "   data.developer.buildObjCnt  data.developer.comissObjCnt  ...  \\\n",
       "0                           5                            0  ...   \n",
       "1                           5                            0  ...   \n",
       "2                           5                            0  ...   \n",
       "3                           5                            0  ...   \n",
       "4                           5                            0  ...   \n",
       "\n",
       "  data.metro.isWalk data.transportDistIndex data.transportDistIndexValue  \\\n",
       "0               NaN                     NaN                          NaN   \n",
       "1               NaN                     NaN                          NaN   \n",
       "2               NaN                     NaN                          NaN   \n",
       "3               NaN                     NaN                          NaN   \n",
       "4               NaN                     NaN                          NaN   \n",
       "\n",
       "  data.greenAreaIndexValue data.airQualityIndexValue data.complexShortNm  \\\n",
       "0                      NaN                       NaN                 NaN   \n",
       "1                      NaN                       NaN                 NaN   \n",
       "2                      NaN                       NaN                 NaN   \n",
       "3                      NaN                       NaN                 NaN   \n",
       "4                      NaN                       NaN                 NaN   \n",
       "\n",
       "  data.developer.bankruptStage.bankruptStageCd  \\\n",
       "0                                          NaN   \n",
       "1                                          NaN   \n",
       "2                                          NaN   \n",
       "3                                          NaN   \n",
       "4                                          NaN   \n",
       "\n",
       "  data.developer.bankruptStage.bankruptStageDesc  \\\n",
       "0                                            NaN   \n",
       "1                                            NaN   \n",
       "2                                            NaN   \n",
       "3                                            NaN   \n",
       "4                                            NaN   \n",
       "\n",
       "  data.developer.bankruptStage.bankruptLawUrl  \\\n",
       "0                                         NaN   \n",
       "1                                         NaN   \n",
       "2                                         NaN   \n",
       "3                                         NaN   \n",
       "4                                         NaN   \n",
       "\n",
       "   data.developer.orgBankruptMsgDttm  \n",
       "0                                NaN  \n",
       "1                                NaN  \n",
       "2                                NaN  \n",
       "3                                NaN  \n",
       "4                                NaN  \n",
       "\n",
       "[5 rows x 106 columns]"
      ]
     },
     "execution_count": 68,
     "metadata": {},
     "output_type": "execute_result"
    }
   ],
   "source": [
    "df_1.drop(columns=['data.photoRenderDTO', 'data.objectTransportInfo', 'data.metro.colors'], inplace=True)\n",
    "df_1.head()"
   ]
  },
  {
   "cell_type": "code",
   "execution_count": 55,
   "metadata": {},
   "outputs": [],
   "source": [
    "# Cохранить pandas dataframe в БД\n",
    "from sqlalchemy import create_engine\n",
    "engine = create_engine(r'sqlite:///C:\\Users\\anna_\\Downloads\\DaPython.db')  # создаем соединение"
   ]
  },
  {
   "cell_type": "code",
   "execution_count": 56,
   "metadata": {},
   "outputs": [
    {
     "name": "stdout",
     "output_type": "stream",
     "text": [
      "DataFrame успешно сохранен в SQLite БД\n"
     ]
    }
   ],
   "source": [
    "df_1.to_sql(name='houses_under_construction', con=engine)\n",
    "\n",
    "print('DataFrame успешно сохранен в SQLite БД')"
   ]
  },
  {
   "cell_type": "code",
   "execution_count": 64,
   "metadata": {},
   "outputs": [
    {
     "data": {
      "text/plain": [
       "[(0, '0', 13391, 28101, 306, '2МЕН ГРУПП', '2МЕН ГРУПП', '2МЕН ГРУПП', 0, 5, 0, 'Тюменская область', '+7(345)279-18-88', '2mengroup.ru', 'info@2mengroup.ru', '7701651356', '1067746424899', '720301001', 'Тюменская область, город Тюмень, улица Комсомольская дом 75/5', 'Тюменская область, город Тюмень, улица Комсомольская 75/5', 585074, 1, 72.0, 'Киселев Сергей Михайлович', '2МЕН ГРУПП ДЕВЕЛОПМЕНТ', 1, 'Акционерное общество', 'АО', 699421001.0, 0, 0, 72, 'г Тюмень, ул Профсоюзная', 3, 12, 44, '2022-06-30', 'Другое', 'По желанию заказчика', 'Есть', 41, 4293.67, '72-000096', 'https://xn--80az8a.xn--d1aqf.xn--p1ai/api/ext/file/014fb813-6b4d-4377-8781-78b566f1f9ab', '29-04-2022 13:16', '57.1541', '65.5595', 1, 0, 'Элитный', '03-05-2022 01:10', 0, 'normal', 'https://xn--80az8a.xn--d1aqf.xn--p1ai/api/ext/file/09ff8156-bcbb-4033-a36a-dd45abd0b430', 1, 37219, 12, 44, '4293.67', 26, 11.0, 16.0, 12.0, 5.0, 44.0, 2.0, 4.0, 0, 1, '30-08-2022 12:00', '2,8', 0, 1.0, 1.0, 1.0, 0.0, 9.0, 1, 1, 0.0, 2.0, 2.0, 0.451017427981191, 55893.0, 'ООО Транспромжилстрой-2005 (ИНН: 7204097730)', 1.0, 0, 'info@2mengroup.ru', 0, 'B', 9, None, None, None, None, None, None, None, None, None, None, None, None, None, None, None, None),\n",
       " (1, '0', 13383, 28105, 306, '2МЕН ГРУПП', '2МЕН ГРУПП', '2МЕН ГРУПП', 0, 5, 0, 'Тюменская область', '+7(345)279-18-88', '2mengroup.ru', 'info@2mengroup.ru', '7701651356', '1067746424899', '720301001', 'Тюменская область, город Тюмень, улица Комсомольская дом 75/5', 'Тюменская область, город Тюмень, улица Комсомольская 75/5', 585074, 1, 72.0, 'Киселев Сергей Михайлович', '2МЕН ГРУПП ДЕВЕЛОПМЕНТ', 1, 'Акционерное общество', 'АО', 699421001.0, 0, 0, 72, 'г Тюмень', 4, 20, 68, '2022-06-30', 'Другое', 'По желанию заказчика', 'Есть', 29, 6289.98, '72-000095', 'https://xn--80az8a.xn--d1aqf.xn--p1ai/api/ext/file/3df03dd1-73fe-4311-a8ed-253dc13cd354', '29-04-2022 13:17', '57.153', '65.5343', 1, 0, 'Элитный', '03-05-2022 01:10', 0, 'normal', 'https://xn--80az8a.xn--d1aqf.xn--p1ai/api/ext/file/0dca6482-02ba-4d56-a861-7a17db04c957', 1, 39024, 20, 68, '6289.98', 10, 13.0, 21.0, 34.0, 0.0, 68.0, 1.0, 6.0, 0, 1, '31-08-2022 12:00', '2,8', 0, 1.0, 1.0, 1.0, 0.0, 11.0, 1, 1, 0.0, 5.0, 1.0, 0.407409880476568, 53109.0, 'ООО Транспромжилстрой-2005 (ИНН: 7204097730)', 1.0, 0, 'info@2mengroup.ru', 0, 'B', 9, None, None, None, None, None, None, None, None, None, None, None, None, None, None, None, None)]"
      ]
     },
     "execution_count": 64,
     "metadata": {},
     "output_type": "execute_result"
    }
   ],
   "source": [
    "# engine.execute(\"SELECT * FROM houses_under_construction\").fetchmany(2)"
   ]
  },
  {
   "cell_type": "code",
   "execution_count": 60,
   "metadata": {},
   "outputs": [],
   "source": [
    "# pd.read_sql('select * from houses_under_construction', con=engine)"
   ]
  },
  {
   "cell_type": "markdown",
   "metadata": {},
   "source": [
    "## Задание 2"
   ]
  },
  {
   "cell_type": "code",
   "execution_count": 16,
   "metadata": {},
   "outputs": [
    {
     "name": "stderr",
     "output_type": "stream",
     "text": [
      "C:\\Users\\anna_\\anaconda3\\lib\\site-packages\\pandas\\core\\frame.py:5039: SettingWithCopyWarning: \n",
      "A value is trying to be set on a copy of a slice from a DataFrame\n",
      "\n",
      "See the caveats in the documentation: https://pandas.pydata.org/pandas-docs/stable/user_guide/indexing.html#returning-a-view-versus-a-copy\n",
      "  return super().rename(\n"
     ]
    },
    {
     "data": {
      "text/html": [
       "<div>\n",
       "<style scoped>\n",
       "    .dataframe tbody tr th:only-of-type {\n",
       "        vertical-align: middle;\n",
       "    }\n",
       "\n",
       "    .dataframe tbody tr th {\n",
       "        vertical-align: top;\n",
       "    }\n",
       "\n",
       "    .dataframe thead th {\n",
       "        text-align: right;\n",
       "    }\n",
       "</style>\n",
       "<table border=\"1\" class=\"dataframe\">\n",
       "  <thead>\n",
       "    <tr style=\"text-align: right;\">\n",
       "      <th></th>\n",
       "      <th>ID дома</th>\n",
       "      <th>Регион</th>\n",
       "      <th>Адрес дома</th>\n",
       "      <th>Застройщик</th>\n",
       "      <th>Жилая площадь</th>\n",
       "      <th>Кол-во квартир</th>\n",
       "      <th>Кол-во этажей</th>\n",
       "      <th>Цена за 1 кв.м</th>\n",
       "    </tr>\n",
       "  </thead>\n",
       "  <tbody>\n",
       "    <tr>\n",
       "      <th>0</th>\n",
       "      <td>13391</td>\n",
       "      <td>Тюменская область</td>\n",
       "      <td>Тюменская область, город Тюмень, улица Комсомо...</td>\n",
       "      <td>2МЕН ГРУПП</td>\n",
       "      <td>4293.67</td>\n",
       "      <td>44</td>\n",
       "      <td>12</td>\n",
       "      <td>55893.0</td>\n",
       "    </tr>\n",
       "    <tr>\n",
       "      <th>1</th>\n",
       "      <td>13383</td>\n",
       "      <td>Тюменская область</td>\n",
       "      <td>Тюменская область, город Тюмень, улица Комсомо...</td>\n",
       "      <td>2МЕН ГРУПП</td>\n",
       "      <td>6289.98</td>\n",
       "      <td>68</td>\n",
       "      <td>20</td>\n",
       "      <td>53109.0</td>\n",
       "    </tr>\n",
       "    <tr>\n",
       "      <th>2</th>\n",
       "      <td>13397</td>\n",
       "      <td>Тюменская область</td>\n",
       "      <td>Тюменская область, город Тюмень, улица Комсомо...</td>\n",
       "      <td>2МЕН ГРУПП</td>\n",
       "      <td>6248.51</td>\n",
       "      <td>65</td>\n",
       "      <td>12</td>\n",
       "      <td>45523.0</td>\n",
       "    </tr>\n",
       "    <tr>\n",
       "      <th>3</th>\n",
       "      <td>13398</td>\n",
       "      <td>Тюменская область</td>\n",
       "      <td>Тюменская область, город Тюмень, улица Комсомо...</td>\n",
       "      <td>2МЕН ГРУПП</td>\n",
       "      <td>4812.98</td>\n",
       "      <td>43</td>\n",
       "      <td>10</td>\n",
       "      <td>47886.0</td>\n",
       "    </tr>\n",
       "    <tr>\n",
       "      <th>4</th>\n",
       "      <td>13399</td>\n",
       "      <td>Тюменская область</td>\n",
       "      <td>Тюменская область, город Тюмень, улица Комсомо...</td>\n",
       "      <td>2МЕН ГРУПП</td>\n",
       "      <td>0.00</td>\n",
       "      <td>0</td>\n",
       "      <td>1</td>\n",
       "      <td>50768.0</td>\n",
       "    </tr>\n",
       "  </tbody>\n",
       "</table>\n",
       "</div>"
      ],
      "text/plain": [
       "   ID дома             Регион  \\\n",
       "0    13391  Тюменская область   \n",
       "1    13383  Тюменская область   \n",
       "2    13397  Тюменская область   \n",
       "3    13398  Тюменская область   \n",
       "4    13399  Тюменская область   \n",
       "\n",
       "                                          Адрес дома  Застройщик  \\\n",
       "0  Тюменская область, город Тюмень, улица Комсомо...  2МЕН ГРУПП   \n",
       "1  Тюменская область, город Тюмень, улица Комсомо...  2МЕН ГРУПП   \n",
       "2  Тюменская область, город Тюмень, улица Комсомо...  2МЕН ГРУПП   \n",
       "3  Тюменская область, город Тюмень, улица Комсомо...  2МЕН ГРУПП   \n",
       "4  Тюменская область, город Тюмень, улица Комсомо...  2МЕН ГРУПП   \n",
       "\n",
       "   Жилая площадь  Кол-во квартир  Кол-во этажей  Цена за 1 кв.м  \n",
       "0        4293.67              44             12         55893.0  \n",
       "1        6289.98              68             20         53109.0  \n",
       "2        6248.51              65             12         45523.0  \n",
       "3        4812.98              43             10         47886.0  \n",
       "4           0.00               0              1         50768.0  "
      ]
     },
     "execution_count": 16,
     "metadata": {},
     "output_type": "execute_result"
    }
   ],
   "source": [
    "# создадим копию DataFrame, чтобы выбрать необходимые столбцы и переименовать их\n",
    "data = df[['data.id', 'data.developer.regRegionDesc', 'data.developer.devFactAddr', 'data.developer.devShortNm', 'data.objSquareLiving', 'data.objFlatCnt', 'data.objFloorCnt', 'data.objPriceAvg']]\n",
    "data.rename(columns={'data.id': 'ID дома', 'data.developer.regRegionDesc': 'Регион', \n",
    "                     'data.developer.devFactAddr': 'Адрес дома', 'data.developer.devShortNm':'Застройщик', \n",
    "                     'data.objSquareLiving': 'Жилая площадь', 'data.objFlatCnt': 'Кол-во квартир', \n",
    "                     'data.objFloorCnt': 'Кол-во этажей', 'data.objPriceAvg': 'Цена за 1 кв.м'}, inplace=True)\n",
    "data.head()"
   ]
  },
  {
   "cell_type": "code",
   "execution_count": 18,
   "metadata": {},
   "outputs": [
    {
     "name": "stdout",
     "output_type": "stream",
     "text": [
      "<class 'pandas.core.frame.DataFrame'>\n",
      "RangeIndex: 10076 entries, 0 to 10075\n",
      "Data columns (total 8 columns):\n",
      " #   Column          Non-Null Count  Dtype  \n",
      "---  ------          --------------  -----  \n",
      " 0   ID дома         10076 non-null  int64  \n",
      " 1   Регион          9968 non-null   object \n",
      " 2   Адрес дома      10067 non-null  object \n",
      " 3   Застройщик      10076 non-null  object \n",
      " 4   Жилая площадь   10076 non-null  float64\n",
      " 5   Кол-во квартир  10076 non-null  int64  \n",
      " 6   Кол-во этажей   10076 non-null  int64  \n",
      " 7   Цена за 1 кв.м  7609 non-null   float64\n",
      "dtypes: float64(2), int64(3), object(3)\n",
      "memory usage: 629.9+ KB\n"
     ]
    }
   ],
   "source": [
    "data.info()"
   ]
  },
  {
   "cell_type": "code",
   "execution_count": 79,
   "metadata": {},
   "outputs": [
    {
     "name": "stderr",
     "output_type": "stream",
     "text": [
      "C:\\Users\\anna_\\AppData\\Local\\Temp/ipykernel_15036/159690340.py:5: SettingWithCopyWarning: \n",
      "A value is trying to be set on a copy of a slice from a DataFrame.\n",
      "Try using .loc[row_indexer,col_indexer] = value instead\n",
      "\n",
      "See the caveats in the documentation: https://pandas.pydata.org/pandas-docs/stable/user_guide/indexing.html#returning-a-view-versus-a-copy\n",
      "  data['Населенный пункт'] = data['Адрес дома'].str.extract(str_pat, 0)[1]\n"
     ]
    },
    {
     "data": {
      "text/html": [
       "<div>\n",
       "<style scoped>\n",
       "    .dataframe tbody tr th:only-of-type {\n",
       "        vertical-align: middle;\n",
       "    }\n",
       "\n",
       "    .dataframe tbody tr th {\n",
       "        vertical-align: top;\n",
       "    }\n",
       "\n",
       "    .dataframe thead th {\n",
       "        text-align: right;\n",
       "    }\n",
       "</style>\n",
       "<table border=\"1\" class=\"dataframe\">\n",
       "  <thead>\n",
       "    <tr style=\"text-align: right;\">\n",
       "      <th></th>\n",
       "      <th>ID дома</th>\n",
       "      <th>Регион</th>\n",
       "      <th>Адрес дома</th>\n",
       "      <th>Застройщик</th>\n",
       "      <th>Жилая площадь</th>\n",
       "      <th>Кол-во квартир</th>\n",
       "      <th>Кол-во этажей</th>\n",
       "      <th>Цена за 1 кв.м</th>\n",
       "      <th>Населенный пункт</th>\n",
       "    </tr>\n",
       "  </thead>\n",
       "  <tbody>\n",
       "    <tr>\n",
       "      <th>6</th>\n",
       "      <td>36321</td>\n",
       "      <td>Приморский край</td>\n",
       "      <td>край Приморский, г Владивосток, ул Прапорщика ...</td>\n",
       "      <td>CЗ АЗИЯ-КОНТРАКТ</td>\n",
       "      <td>8002.40</td>\n",
       "      <td>120</td>\n",
       "      <td>25</td>\n",
       "      <td>131687.0</td>\n",
       "      <td>Владивосток</td>\n",
       "    </tr>\n",
       "    <tr>\n",
       "      <th>315</th>\n",
       "      <td>26213</td>\n",
       "      <td>Приморский край</td>\n",
       "      <td>край Приморский г Владивосток ул Светланская д...</td>\n",
       "      <td>АТЛАНТИКС</td>\n",
       "      <td>0.00</td>\n",
       "      <td>0</td>\n",
       "      <td>5</td>\n",
       "      <td>31705.0</td>\n",
       "      <td>Владивосток</td>\n",
       "    </tr>\n",
       "    <tr>\n",
       "      <th>316</th>\n",
       "      <td>26212</td>\n",
       "      <td>Приморский край</td>\n",
       "      <td>край Приморский г Владивосток ул Светланская д...</td>\n",
       "      <td>АТЛАНТИКС</td>\n",
       "      <td>25078.00</td>\n",
       "      <td>176</td>\n",
       "      <td>24</td>\n",
       "      <td>49695.0</td>\n",
       "      <td>Владивосток</td>\n",
       "    </tr>\n",
       "    <tr>\n",
       "      <th>727</th>\n",
       "      <td>37898</td>\n",
       "      <td>Приморский край</td>\n",
       "      <td>край Приморский город Владивосток улица Енисей...</td>\n",
       "      <td>ДВ КОНСТРАКШЕН</td>\n",
       "      <td>9247.28</td>\n",
       "      <td>322</td>\n",
       "      <td>25</td>\n",
       "      <td>121003.0</td>\n",
       "      <td>Владивосток</td>\n",
       "    </tr>\n",
       "    <tr>\n",
       "      <th>728</th>\n",
       "      <td>37899</td>\n",
       "      <td>Приморский край</td>\n",
       "      <td>край Приморский город Владивосток улица Енисей...</td>\n",
       "      <td>ДВ КОНСТРАКШЕН</td>\n",
       "      <td>7249.87</td>\n",
       "      <td>252</td>\n",
       "      <td>19</td>\n",
       "      <td>123194.0</td>\n",
       "      <td>Владивосток</td>\n",
       "    </tr>\n",
       "    <tr>\n",
       "      <th>...</th>\n",
       "      <td>...</td>\n",
       "      <td>...</td>\n",
       "      <td>...</td>\n",
       "      <td>...</td>\n",
       "      <td>...</td>\n",
       "      <td>...</td>\n",
       "      <td>...</td>\n",
       "      <td>...</td>\n",
       "      <td>...</td>\n",
       "    </tr>\n",
       "    <tr>\n",
       "      <th>8693</th>\n",
       "      <td>41419</td>\n",
       "      <td>Приморский край</td>\n",
       "      <td>Приморский край, г Владивосток, улица Басаргин...</td>\n",
       "      <td>СЗПАСИФИКБЭЙ</td>\n",
       "      <td>0.00</td>\n",
       "      <td>0</td>\n",
       "      <td>4</td>\n",
       "      <td>NaN</td>\n",
       "      <td>Владивосток</td>\n",
       "    </tr>\n",
       "    <tr>\n",
       "      <th>9061</th>\n",
       "      <td>45858</td>\n",
       "      <td>Приморский край</td>\n",
       "      <td>край Приморский, город Владивосток, улица Держ...</td>\n",
       "      <td>СИК АТЛАНТ</td>\n",
       "      <td>817.70</td>\n",
       "      <td>9</td>\n",
       "      <td>2</td>\n",
       "      <td>NaN</td>\n",
       "      <td>Владивосток</td>\n",
       "    </tr>\n",
       "    <tr>\n",
       "      <th>9480</th>\n",
       "      <td>37348</td>\n",
       "      <td>Приморский край</td>\n",
       "      <td>край Приморский г Владивосток пр-кт Океанский ...</td>\n",
       "      <td>СТРОЙЗАКАЗ</td>\n",
       "      <td>14572.01</td>\n",
       "      <td>450</td>\n",
       "      <td>29</td>\n",
       "      <td>121725.0</td>\n",
       "      <td>Владивосток</td>\n",
       "    </tr>\n",
       "    <tr>\n",
       "      <th>9731</th>\n",
       "      <td>45880</td>\n",
       "      <td>Приморский край</td>\n",
       "      <td>край Приморский, город Уссурийск, улица Новони...</td>\n",
       "      <td>УСИ</td>\n",
       "      <td>2232.93</td>\n",
       "      <td>44</td>\n",
       "      <td>5</td>\n",
       "      <td>NaN</td>\n",
       "      <td>Уссурийск</td>\n",
       "    </tr>\n",
       "    <tr>\n",
       "      <th>9955</th>\n",
       "      <td>36674</td>\n",
       "      <td>Приморский край</td>\n",
       "      <td>край Приморский г Владивосток ул Кирова д. 23 ...</td>\n",
       "      <td>ЭКО ПЛЮС</td>\n",
       "      <td>14980.59</td>\n",
       "      <td>230</td>\n",
       "      <td>28</td>\n",
       "      <td>70000.0</td>\n",
       "      <td>Владивосток</td>\n",
       "    </tr>\n",
       "  </tbody>\n",
       "</table>\n",
       "<p>188 rows × 9 columns</p>\n",
       "</div>"
      ],
      "text/plain": [
       "      ID дома           Регион  \\\n",
       "6       36321  Приморский край   \n",
       "315     26213  Приморский край   \n",
       "316     26212  Приморский край   \n",
       "727     37898  Приморский край   \n",
       "728     37899  Приморский край   \n",
       "...       ...              ...   \n",
       "8693    41419  Приморский край   \n",
       "9061    45858  Приморский край   \n",
       "9480    37348  Приморский край   \n",
       "9731    45880  Приморский край   \n",
       "9955    36674  Приморский край   \n",
       "\n",
       "                                             Адрес дома        Застройщик  \\\n",
       "6     край Приморский, г Владивосток, ул Прапорщика ...  CЗ АЗИЯ-КОНТРАКТ   \n",
       "315   край Приморский г Владивосток ул Светланская д...         АТЛАНТИКС   \n",
       "316   край Приморский г Владивосток ул Светланская д...         АТЛАНТИКС   \n",
       "727   край Приморский город Владивосток улица Енисей...    ДВ КОНСТРАКШЕН   \n",
       "728   край Приморский город Владивосток улица Енисей...    ДВ КОНСТРАКШЕН   \n",
       "...                                                 ...               ...   \n",
       "8693  Приморский край, г Владивосток, улица Басаргин...      СЗПАСИФИКБЭЙ   \n",
       "9061  край Приморский, город Владивосток, улица Держ...        СИК АТЛАНТ   \n",
       "9480  край Приморский г Владивосток пр-кт Океанский ...        СТРОЙЗАКАЗ   \n",
       "9731  край Приморский, город Уссурийск, улица Новони...               УСИ   \n",
       "9955  край Приморский г Владивосток ул Кирова д. 23 ...          ЭКО ПЛЮС   \n",
       "\n",
       "      Жилая площадь  Кол-во квартир  Кол-во этажей  Цена за 1 кв.м  \\\n",
       "6           8002.40             120             25        131687.0   \n",
       "315            0.00               0              5         31705.0   \n",
       "316        25078.00             176             24         49695.0   \n",
       "727         9247.28             322             25        121003.0   \n",
       "728         7249.87             252             19        123194.0   \n",
       "...             ...             ...            ...             ...   \n",
       "8693           0.00               0              4             NaN   \n",
       "9061         817.70               9              2             NaN   \n",
       "9480       14572.01             450             29        121725.0   \n",
       "9731        2232.93              44              5             NaN   \n",
       "9955       14980.59             230             28         70000.0   \n",
       "\n",
       "     Населенный пункт  \n",
       "6         Владивосток  \n",
       "315       Владивосток  \n",
       "316       Владивосток  \n",
       "727       Владивосток  \n",
       "728       Владивосток  \n",
       "...               ...  \n",
       "8693      Владивосток  \n",
       "9061      Владивосток  \n",
       "9480      Владивосток  \n",
       "9731        Уссурийск  \n",
       "9955      Владивосток  \n",
       "\n",
       "[188 rows x 9 columns]"
      ]
     },
     "execution_count": 79,
     "metadata": {},
     "output_type": "execute_result"
    }
   ],
   "source": [
    "# Используя регулярные выражения, извлечем населенный пункт и добавим его в соответствующий столбец,\n",
    "# чтобы потом сгруппировать по городам\n",
    "\n",
    "str_pat = r'(город|г|поселок|п|поселок городского типа|пгт|село|с) ([а-яА-Я-]*)( [а-я]{1}|, [а-я]{1})'\n",
    "data['Населенный пункт'] = data['Адрес дома'].str.extract(str_pat, 0)[1]\n",
    "data[data['Регион'] == 'Приморский край']"
   ]
  },
  {
   "cell_type": "code",
   "execution_count": 81,
   "metadata": {},
   "outputs": [
    {
     "data": {
      "text/plain": [
       "Населенный пункт\n",
       "Артем           89952.000000\n",
       "Владивосток    118553.072727\n",
       "Находка                  NaN\n",
       "Тавричанка      85100.000000\n",
       "Уссурийск      100706.222222\n",
       "Name: Цена за 1 кв.м, dtype: float64"
      ]
     },
     "execution_count": 81,
     "metadata": {},
     "output_type": "execute_result"
    }
   ],
   "source": [
    "# Сравниваем среднюю цену квадратного метра в городах Приморского края\n",
    "data[data['Регион'] == 'Приморский край'].groupby('Населенный пункт')['Цена за 1 кв.м'].mean()"
   ]
  },
  {
   "cell_type": "code",
   "execution_count": 37,
   "metadata": {},
   "outputs": [
    {
     "data": {
      "text/plain": [
       "Регион\n",
       "Адыгея Республика                   25\n",
       "Алтай Республика                    16\n",
       "Алтайский край                      94\n",
       "Амурская область                    30\n",
       "Архангельская область               55\n",
       "                                  ... \n",
       "Челябинская область                173\n",
       "Чеченская Республика                 3\n",
       "Чувашская Республика                69\n",
       "Ямало-Ненецкий Автономный округ     24\n",
       "Ярославская область                 98\n",
       "Name: ID дома, Length: 81, dtype: int64"
      ]
     },
     "execution_count": 37,
     "metadata": {},
     "output_type": "execute_result"
    }
   ],
   "source": [
    "# количество строящихся объектов в регионах\n",
    "data.groupby('Регион')['ID дома'].count()"
   ]
  },
  {
   "cell_type": "code",
   "execution_count": 38,
   "metadata": {},
   "outputs": [
    {
     "data": {
      "text/plain": [
       "Регион\n",
       "Адыгея Республика                   2345\n",
       "Алтай Республика                    1435\n",
       "Алтайский край                     15830\n",
       "Амурская область                    3285\n",
       "Архангельская область               8896\n",
       "                                   ...  \n",
       "Челябинская область                24302\n",
       "Чеченская Республика                 788\n",
       "Чувашская Республика               10853\n",
       "Ямало-Ненецкий Автономный округ     1817\n",
       "Ярославская область                14530\n",
       "Name: Кол-во квартир, Length: 81, dtype: int64"
      ]
     },
     "execution_count": 38,
     "metadata": {},
     "output_type": "execute_result"
    }
   ],
   "source": [
    "# количество строящихся квартир в регионах\n",
    "data.groupby('Регион')['Кол-во квартир'].sum()"
   ]
  },
  {
   "cell_type": "code",
   "execution_count": 39,
   "metadata": {},
   "outputs": [
    {
     "data": {
      "text/plain": [
       "95521044.57"
      ]
     },
     "execution_count": 39,
     "metadata": {},
     "output_type": "execute_result"
    }
   ],
   "source": [
    "# Объем строящегося жилья в квадратных метрах по всей стране\n",
    "data['Жилая площадь'].sum()"
   ]
  },
  {
   "cell_type": "code",
   "execution_count": 40,
   "metadata": {},
   "outputs": [
    {
     "data": {
      "text/plain": [
       "Регион\n",
       "Адыгея Республика                   106878.82\n",
       "Алтай Республика                     74649.50\n",
       "Алтайский край                      804492.88\n",
       "Амурская область                    169980.43\n",
       "Архангельская область               394446.03\n",
       "                                      ...    \n",
       "Челябинская область                1239850.40\n",
       "Чеченская Республика                 70559.48\n",
       "Чувашская Республика                624859.40\n",
       "Ямало-Ненецкий Автономный округ      87249.23\n",
       "Ярославская область                 775742.32\n",
       "Name: Жилая площадь, Length: 81, dtype: float64"
      ]
     },
     "execution_count": 40,
     "metadata": {},
     "output_type": "execute_result"
    }
   ],
   "source": [
    "# Объем строящегося жилья в квадратных метрах по регионам\n",
    "data.groupby('Регион')['Жилая площадь'].sum()"
   ]
  }
 ],
 "metadata": {
  "kernelspec": {
   "display_name": "Python 3 (ipykernel)",
   "language": "python",
   "name": "python3"
  },
  "language_info": {
   "codemirror_mode": {
    "name": "ipython",
    "version": 3
   },
   "file_extension": ".py",
   "mimetype": "text/x-python",
   "name": "python",
   "nbconvert_exporter": "python",
   "pygments_lexer": "ipython3",
   "version": "3.9.7"
  },
  "toc": {
   "base_numbering": 1,
   "nav_menu": {},
   "number_sections": false,
   "sideBar": true,
   "skip_h1_title": false,
   "title_cell": "Table of Contents",
   "title_sidebar": "Contents",
   "toc_cell": false,
   "toc_position": {},
   "toc_section_display": true,
   "toc_window_display": false
  }
 },
 "nbformat": 4,
 "nbformat_minor": 1
}
