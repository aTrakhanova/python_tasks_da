{
 "cells": [
  {
   "cell_type": "markdown",
   "metadata": {},
   "source": [
    "# Задание"
   ]
  },
  {
   "cell_type": "markdown",
   "metadata": {},
   "source": [
    "### Основная часть"
   ]
  },
  {
   "cell_type": "markdown",
   "metadata": {},
   "source": [
    "* Попробовать построить графики из тех, что были на уроке по Seaborn и Matplotlib\n",
    "* Важно чтобы у каждого из графиков был как минимум один в комментариях или markdown"
   ]
  },
  {
   "cell_type": "markdown",
   "metadata": {},
   "source": [
    "### Дополнительная часть"
   ]
  },
  {
   "cell_type": "markdown",
   "metadata": {},
   "source": [
    "* Некоторые данные представлены в агрегированном в виде в разном временном размере. Если вам нужны дополнительные переменные, то добавьте их в датасет.\n",
    "\n",
    "* Опишите данную вам выборку, а так же кластеризуйте данные с помощь инструментов Python (количество кластеров на ваше усмотрение) и опишите полученные кластеры ( например, в первом кластере представлены клиенты с таким-то поведением или продуктовым наполнением).\n",
    "\n",
    "* Для выполнения работы, пожалуйста, используйте Python. Задание мы ждем выполненным в Jupyter notebook с соответствующими комментариями."
   ]
  },
  {
   "cell_type": "markdown",
   "metadata": {},
   "source": [
    "# Описания полей"
   ]
  },
  {
   "cell_type": "markdown",
   "metadata": {},
   "source": [
    "* age\tвозраст\n",
    "* gender\tпол repexc_date\n",
    "* city_type\tТип города проживания клиента\n",
    "* full_mob\tДлительность взаимоотношений с банком\n",
    "\n",
    "* ml_balance\tипотека\n",
    "* cl_balance_0m\tпотребительский кредит\n",
    "* loan_balance_0m\tвсе кредиты\n",
    "\n",
    "* td_balance_0m\tдепозит\n",
    "* casa_balance_0m\tсчета\n",
    "\n",
    "* dc_trx_cnt\tколичество трат по картам\n",
    "* dc_trx_sum\tсумма трат по картам\n",
    "* Avg_trx\tсредний размер транзакции\n",
    "* avgtrx_to_balance\t\n",
    "\n",
    "\n",
    "* min_casa_balance_1q\tпоказатели по счетам за квартал\n",
    "* max_casa_balance_1q\t\n",
    "* avg_casa_balance_1Y\tпоказатели по счетам за год\n",
    "\n",
    "* min_td_balance_1q\t\n",
    "* max_td_balance_1q\t\n",
    "* avg_td_balance_1Y\n",
    "\n",
    "* min_loan_balance_1q\t\n",
    "* max_loan_balance_1q\t\n",
    "* avg_loan_balance_1Y\n",
    "\n",
    "* min_cl_balance_1q\t\n",
    "* max_cl_balance_1q\t\n",
    "* avg_cl_balance_1Y\t\n",
    "* loan_to_deposit\t\n",
    "\n",
    "* income\tдоход клиента\n",
    "* nbi\tдоход от клиента без OPEX"
   ]
  },
  {
   "cell_type": "code",
   "execution_count": 1,
   "metadata": {},
   "outputs": [],
   "source": [
    "%matplotlib inline\n",
    "import pandas as pd\n",
    "import matplotlib.pyplot as plt\n",
    "import seaborn as sns\n",
    "import numpy as np\n",
    "from scipy import stats\n",
    "from tqdm.auto import tqdm\n",
    "from pylab import rcParams"
   ]
  },
  {
   "cell_type": "code",
   "execution_count": 2,
   "metadata": {},
   "outputs": [
    {
     "data": {
      "text/html": [
       "<div>\n",
       "<style scoped>\n",
       "    .dataframe tbody tr th:only-of-type {\n",
       "        vertical-align: middle;\n",
       "    }\n",
       "\n",
       "    .dataframe tbody tr th {\n",
       "        vertical-align: top;\n",
       "    }\n",
       "\n",
       "    .dataframe thead th {\n",
       "        text-align: right;\n",
       "    }\n",
       "</style>\n",
       "<table border=\"1\" class=\"dataframe\">\n",
       "  <thead>\n",
       "    <tr style=\"text-align: right;\">\n",
       "      <th></th>\n",
       "      <th>age</th>\n",
       "      <th>gender</th>\n",
       "      <th>city_type</th>\n",
       "      <th>full_mob</th>\n",
       "      <th>ml_balance</th>\n",
       "      <th>cl_balance_0m</th>\n",
       "      <th>loan_balance_0m</th>\n",
       "      <th>td_balance_0m</th>\n",
       "      <th>casa_balance_0m</th>\n",
       "      <th>dc_trx_cnt</th>\n",
       "      <th>...</th>\n",
       "      <th>min_loan_balance_1q</th>\n",
       "      <th>max_loan_balance_1q</th>\n",
       "      <th>avg_loan_balance_1Y</th>\n",
       "      <th>min_cl_balance_1q</th>\n",
       "      <th>max_cl_balance_1q</th>\n",
       "      <th>avg_cl_balance_1Y</th>\n",
       "      <th>loan_to_deposit</th>\n",
       "      <th>Avg_trx</th>\n",
       "      <th>avgtrx_to_balance</th>\n",
       "      <th>nbi</th>\n",
       "    </tr>\n",
       "  </thead>\n",
       "  <tbody>\n",
       "    <tr>\n",
       "      <th>0</th>\n",
       "      <td>71</td>\n",
       "      <td>NaN</td>\n",
       "      <td>&lt;100</td>\n",
       "      <td>103</td>\n",
       "      <td>0.0</td>\n",
       "      <td>0.0</td>\n",
       "      <td>0.0</td>\n",
       "      <td>0.0</td>\n",
       "      <td>0.0000</td>\n",
       "      <td>0</td>\n",
       "      <td>...</td>\n",
       "      <td>0.0</td>\n",
       "      <td>0.0</td>\n",
       "      <td>0.0</td>\n",
       "      <td>0.0</td>\n",
       "      <td>0.0</td>\n",
       "      <td>0.0</td>\n",
       "      <td>NaN</td>\n",
       "      <td>NaN</td>\n",
       "      <td>NaN</td>\n",
       "      <td>NaN</td>\n",
       "    </tr>\n",
       "    <tr>\n",
       "      <th>1</th>\n",
       "      <td>49</td>\n",
       "      <td>NaN</td>\n",
       "      <td>Mega</td>\n",
       "      <td>81</td>\n",
       "      <td>0.0</td>\n",
       "      <td>0.0</td>\n",
       "      <td>0.0</td>\n",
       "      <td>0.0</td>\n",
       "      <td>3272.9367</td>\n",
       "      <td>0</td>\n",
       "      <td>...</td>\n",
       "      <td>0.0</td>\n",
       "      <td>0.0</td>\n",
       "      <td>0.0</td>\n",
       "      <td>0.0</td>\n",
       "      <td>0.0</td>\n",
       "      <td>0.0</td>\n",
       "      <td>NaN</td>\n",
       "      <td>NaN</td>\n",
       "      <td>NaN</td>\n",
       "      <td>28.762952</td>\n",
       "    </tr>\n",
       "    <tr>\n",
       "      <th>2</th>\n",
       "      <td>56</td>\n",
       "      <td>NaN</td>\n",
       "      <td>Mega</td>\n",
       "      <td>81</td>\n",
       "      <td>0.0</td>\n",
       "      <td>0.0</td>\n",
       "      <td>0.0</td>\n",
       "      <td>0.0</td>\n",
       "      <td>6249.7550</td>\n",
       "      <td>6</td>\n",
       "      <td>...</td>\n",
       "      <td>0.0</td>\n",
       "      <td>0.0</td>\n",
       "      <td>0.0</td>\n",
       "      <td>0.0</td>\n",
       "      <td>0.0</td>\n",
       "      <td>0.0</td>\n",
       "      <td>NaN</td>\n",
       "      <td>854.67</td>\n",
       "      <td>0.083467</td>\n",
       "      <td>1973.335539</td>\n",
       "    </tr>\n",
       "    <tr>\n",
       "      <th>3</th>\n",
       "      <td>47</td>\n",
       "      <td>NaN</td>\n",
       "      <td>Mega</td>\n",
       "      <td>81</td>\n",
       "      <td>0.0</td>\n",
       "      <td>0.0</td>\n",
       "      <td>0.0</td>\n",
       "      <td>0.0</td>\n",
       "      <td>14354.9370</td>\n",
       "      <td>0</td>\n",
       "      <td>...</td>\n",
       "      <td>0.0</td>\n",
       "      <td>0.0</td>\n",
       "      <td>0.0</td>\n",
       "      <td>0.0</td>\n",
       "      <td>0.0</td>\n",
       "      <td>0.0</td>\n",
       "      <td>NaN</td>\n",
       "      <td>NaN</td>\n",
       "      <td>NaN</td>\n",
       "      <td>364.008556</td>\n",
       "    </tr>\n",
       "    <tr>\n",
       "      <th>4</th>\n",
       "      <td>74</td>\n",
       "      <td>NaN</td>\n",
       "      <td>Mega</td>\n",
       "      <td>81</td>\n",
       "      <td>0.0</td>\n",
       "      <td>0.0</td>\n",
       "      <td>0.0</td>\n",
       "      <td>0.0</td>\n",
       "      <td>91511.7691</td>\n",
       "      <td>0</td>\n",
       "      <td>...</td>\n",
       "      <td>0.0</td>\n",
       "      <td>0.0</td>\n",
       "      <td>0.0</td>\n",
       "      <td>0.0</td>\n",
       "      <td>0.0</td>\n",
       "      <td>0.0</td>\n",
       "      <td>NaN</td>\n",
       "      <td>NaN</td>\n",
       "      <td>NaN</td>\n",
       "      <td>6651.416562</td>\n",
       "    </tr>\n",
       "  </tbody>\n",
       "</table>\n",
       "<p>5 rows × 28 columns</p>\n",
       "</div>"
      ],
      "text/plain": [
       "   age gender city_type  full_mob  ml_balance  cl_balance_0m  loan_balance_0m  \\\n",
       "0   71    NaN      <100       103         0.0            0.0              0.0   \n",
       "1   49    NaN      Mega        81         0.0            0.0              0.0   \n",
       "2   56    NaN      Mega        81         0.0            0.0              0.0   \n",
       "3   47    NaN      Mega        81         0.0            0.0              0.0   \n",
       "4   74    NaN      Mega        81         0.0            0.0              0.0   \n",
       "\n",
       "   td_balance_0m  casa_balance_0m  dc_trx_cnt  ...  min_loan_balance_1q  \\\n",
       "0            0.0           0.0000           0  ...                  0.0   \n",
       "1            0.0        3272.9367           0  ...                  0.0   \n",
       "2            0.0        6249.7550           6  ...                  0.0   \n",
       "3            0.0       14354.9370           0  ...                  0.0   \n",
       "4            0.0       91511.7691           0  ...                  0.0   \n",
       "\n",
       "   max_loan_balance_1q  avg_loan_balance_1Y  min_cl_balance_1q  \\\n",
       "0                  0.0                  0.0                0.0   \n",
       "1                  0.0                  0.0                0.0   \n",
       "2                  0.0                  0.0                0.0   \n",
       "3                  0.0                  0.0                0.0   \n",
       "4                  0.0                  0.0                0.0   \n",
       "\n",
       "   max_cl_balance_1q  avg_cl_balance_1Y  loan_to_deposit  Avg_trx  \\\n",
       "0                0.0                0.0              NaN      NaN   \n",
       "1                0.0                0.0              NaN      NaN   \n",
       "2                0.0                0.0              NaN   854.67   \n",
       "3                0.0                0.0              NaN      NaN   \n",
       "4                0.0                0.0              NaN      NaN   \n",
       "\n",
       "   avgtrx_to_balance          nbi  \n",
       "0                NaN          NaN  \n",
       "1                NaN    28.762952  \n",
       "2           0.083467  1973.335539  \n",
       "3                NaN   364.008556  \n",
       "4                NaN  6651.416562  \n",
       "\n",
       "[5 rows x 28 columns]"
      ]
     },
     "execution_count": 2,
     "metadata": {},
     "output_type": "execute_result"
    }
   ],
   "source": [
    "df = pd.read_csv('test_cluster.csv', encoding='cp1251', sep=';')\n",
    "df.head()"
   ]
  },
  {
   "cell_type": "code",
   "execution_count": 3,
   "metadata": {
    "scrolled": true
   },
   "outputs": [
    {
     "name": "stdout",
     "output_type": "stream",
     "text": [
      "<class 'pandas.core.frame.DataFrame'>\n",
      "RangeIndex: 50000 entries, 0 to 49999\n",
      "Data columns (total 28 columns):\n",
      " #   Column               Non-Null Count  Dtype  \n",
      "---  ------               --------------  -----  \n",
      " 0   age                  50000 non-null  int64  \n",
      " 1   gender               49277 non-null  object \n",
      " 2   city_type            50000 non-null  object \n",
      " 3   full_mob             50000 non-null  int64  \n",
      " 4   ml_balance           50000 non-null  float64\n",
      " 5   cl_balance_0m        50000 non-null  float64\n",
      " 6   loan_balance_0m      50000 non-null  float64\n",
      " 7   td_balance_0m        50000 non-null  float64\n",
      " 8   casa_balance_0m      50000 non-null  float64\n",
      " 9   dc_trx_cnt           50000 non-null  int64  \n",
      " 10  dc_trx_sum           50000 non-null  float64\n",
      " 11  income               50000 non-null  float64\n",
      " 12  min_casa_balance_1q  50000 non-null  float64\n",
      " 13  max_casa_balance_1q  50000 non-null  float64\n",
      " 14  avg_casa_balance_1Y  50000 non-null  float64\n",
      " 15  min_td_balance_1q    50000 non-null  float64\n",
      " 16  max_td_balance_1q    50000 non-null  float64\n",
      " 17  avg_td_balance_1Y    50000 non-null  float64\n",
      " 18  min_loan_balance_1q  50000 non-null  float64\n",
      " 19  max_loan_balance_1q  50000 non-null  float64\n",
      " 20  avg_loan_balance_1Y  50000 non-null  float64\n",
      " 21  min_cl_balance_1q    50000 non-null  float64\n",
      " 22  max_cl_balance_1q    50000 non-null  float64\n",
      " 23  avg_cl_balance_1Y    50000 non-null  float64\n",
      " 24  loan_to_deposit      3820 non-null   float64\n",
      " 25  Avg_trx              32128 non-null  float64\n",
      " 26  avgtrx_to_balance    31515 non-null  float64\n",
      " 27  nbi                  47569 non-null  float64\n",
      "dtypes: float64(23), int64(3), object(2)\n",
      "memory usage: 10.7+ MB\n"
     ]
    }
   ],
   "source": [
    "df.info()"
   ]
  },
  {
   "cell_type": "code",
   "execution_count": 4,
   "metadata": {},
   "outputs": [
    {
     "data": {
      "image/png": "[encoded data removed]",
      "text/plain": [
       "<Figure size 360x360 with 1 Axes>"
      ]
     },
     "metadata": {},
     "output_type": "display_data"
    }
   ],
   "source": [
    "# 1. Круговая диаграмма.\n",
    "# Соотношение полов в таблице.\n",
    "\n",
    "gender = df.groupby('gender').agg({'gender':'count'})\n",
    "gender.plot.pie(subplots=True, figsize=(5, 5), autopct='%1.1f%%')\n",
    "plt.axis('equal')\n",
    "plt.show()\n",
    "\n",
    "# Вывод: в таблице представлены данные примерно в равном соотношении между мужчинами и женщинами"
   ]
  },
  {
   "cell_type": "code",
   "execution_count": 9,
   "metadata": {},
   "outputs": [
    {
     "data": {
      "image/png": "[encoded data removed]",
      "text/plain": [
       "<Figure size 864x504 with 1 Axes>"
      ]
     },
     "metadata": {
      "needs_background": "light"
     },
     "output_type": "display_data"
    }
   ],
   "source": [
    "# 2. Линейный график.\n",
    "# Количество трат по картам в зависимости от возраста\n",
    "\n",
    "spendings = df[['age', 'dc_trx_cnt']].groupby(['age']).sum()\n",
    "rcParams['figure.figsize'] = 12, 7\n",
    "plt.plot(spendings.dc_trx_cnt)\n",
    "plt.xlabel('Возраст')\n",
    "plt.ylabel('Кол-во трат по картам')\n",
    "plt.show()\n",
    "\n",
    "# Вывод: до 25-35 лет количество трат по картам стретиметльно растет, однако после 35 лет тренд показывает \n",
    "# снижение количества трат."
   ]
  },
  {
   "cell_type": "code",
   "execution_count": 40,
   "metadata": {},
   "outputs": [
    {
     "data": {
      "text/plain": [
       "Text(0, 0.5, 'income')"
      ]
     },
     "execution_count": 40,
     "metadata": {},
     "output_type": "execute_result"
    },
    {
     "data": {
      "image/png": "[encoded data removed]",
      "text/plain": [
       "<Figure size 864x504 with 1 Axes>"
      ]
     },
     "metadata": {
      "needs_background": "light"
     },
     "output_type": "display_data"
    }
   ],
   "source": [
    "# 3. Столбчатая диаграмма\n",
    "# Доходы клиентов по половому признаку\n",
    "\n",
    "income_by_gender = df.groupby('gender')['income'].sum()\n",
    "income_by_gender.plot.bar()\n",
    "plt.title('Доходы мужчин и женщин', fontsize=15)\n",
    "plt.xlabel('gender', fontsize=12)\n",
    "plt.ylabel('income', fontsize=12)\n",
    "\n",
    "# Вывод: доход мужчин превышает доход женщин"
   ]
  },
  {
   "cell_type": "code",
   "execution_count": 134,
   "metadata": {},
   "outputs": [
    {
     "data": {
      "text/html": [
       "<div>\n",
       "<style scoped>\n",
       "    .dataframe tbody tr th:only-of-type {\n",
       "        vertical-align: middle;\n",
       "    }\n",
       "\n",
       "    .dataframe tbody tr th {\n",
       "        vertical-align: top;\n",
       "    }\n",
       "\n",
       "    .dataframe thead th {\n",
       "        text-align: right;\n",
       "    }\n",
       "</style>\n",
       "<table border=\"1\" class=\"dataframe\">\n",
       "  <thead>\n",
       "    <tr style=\"text-align: right;\">\n",
       "      <th></th>\n",
       "      <th></th>\n",
       "      <th>sum</th>\n",
       "      <th>count</th>\n",
       "    </tr>\n",
       "    <tr>\n",
       "      <th>city_type</th>\n",
       "      <th>gender</th>\n",
       "      <th></th>\n",
       "      <th></th>\n",
       "    </tr>\n",
       "  </thead>\n",
       "  <tbody>\n",
       "    <tr>\n",
       "      <th rowspan=\"2\" valign=\"top\">100-500</th>\n",
       "      <th>F</th>\n",
       "      <td>120,855,843.4</td>\n",
       "      <td>5291</td>\n",
       "    </tr>\n",
       "    <tr>\n",
       "      <th>М</th>\n",
       "      <td>135,177,644.3</td>\n",
       "      <td>5369</td>\n",
       "    </tr>\n",
       "    <tr>\n",
       "      <th rowspan=\"2\" valign=\"top\">1M+</th>\n",
       "      <th>F</th>\n",
       "      <td>72,356,103.9</td>\n",
       "      <td>4063</td>\n",
       "    </tr>\n",
       "    <tr>\n",
       "      <th>М</th>\n",
       "      <td>83,239,536.7</td>\n",
       "      <td>3784</td>\n",
       "    </tr>\n",
       "    <tr>\n",
       "      <th rowspan=\"2\" valign=\"top\">500-1000</th>\n",
       "      <th>F</th>\n",
       "      <td>73,088,772.7</td>\n",
       "      <td>3297</td>\n",
       "    </tr>\n",
       "    <tr>\n",
       "      <th>М</th>\n",
       "      <td>101,839,987.3</td>\n",
       "      <td>3629</td>\n",
       "    </tr>\n",
       "    <tr>\n",
       "      <th rowspan=\"2\" valign=\"top\">&lt;100</th>\n",
       "      <th>F</th>\n",
       "      <td>152,811,153.7</td>\n",
       "      <td>7048</td>\n",
       "    </tr>\n",
       "    <tr>\n",
       "      <th>М</th>\n",
       "      <td>262,706,531.2</td>\n",
       "      <td>8163</td>\n",
       "    </tr>\n",
       "    <tr>\n",
       "      <th rowspan=\"2\" valign=\"top\">Mega</th>\n",
       "      <th>F</th>\n",
       "      <td>107,552,156.7</td>\n",
       "      <td>4175</td>\n",
       "    </tr>\n",
       "    <tr>\n",
       "      <th>М</th>\n",
       "      <td>146,499,247.8</td>\n",
       "      <td>4458</td>\n",
       "    </tr>\n",
       "  </tbody>\n",
       "</table>\n",
       "</div>"
      ],
      "text/plain": [
       "                           sum  count\n",
       "city_type gender                     \n",
       "100-500   F      120,855,843.4   5291\n",
       "          М      135,177,644.3   5369\n",
       "1M+       F       72,356,103.9   4063\n",
       "          М       83,239,536.7   3784\n",
       "500-1000  F       73,088,772.7   3297\n",
       "          М      101,839,987.3   3629\n",
       "<100      F      152,811,153.7   7048\n",
       "          М      262,706,531.2   8163\n",
       "Mega      F      107,552,156.7   4175\n",
       "          М      146,499,247.8   4458"
      ]
     },
     "execution_count": 134,
     "metadata": {},
     "output_type": "execute_result"
    }
   ],
   "source": [
    "# проанализируем доход мужчин и женщин в городах \n",
    "\n",
    "df.groupby(['city_type', 'gender'])['income'].agg(['sum', 'count'])\n",
    "\n",
    "# Вывод: доход мужчин превышает доход женщин, при этом доход в городах до 100 тысяч жителей размер доходов гораздо выше, \n",
    "# так как в датасете наибольшее количество мужчин и женщин представлено именно из этого типа городов."
   ]
  },
  {
   "cell_type": "code",
   "execution_count": 135,
   "metadata": {},
   "outputs": [
    {
     "data": {
      "text/plain": [
       "<matplotlib.legend.Legend at 0x28ba303c940>"
      ]
     },
     "execution_count": 135,
     "metadata": {},
     "output_type": "execute_result"
    },
    {
     "data": {
      "image/png": "[encoded data removed]",
      "text/plain": [
       "<Figure size 864x504 with 1 Axes>"
      ]
     },
     "metadata": {
      "needs_background": "light"
     },
     "output_type": "display_data"
    }
   ],
   "source": [
    "# Отобразим данные с использованием столбчатой диаграммы\n",
    "\n",
    "male = df[df['gender'] == 'М'].groupby('city_type')['income'].sum()\n",
    "female = df[df['gender'] == 'F'].groupby('city_type')['income'].sum()\n",
    "\n",
    "male.plot.bar(x=\"city_type\", y=\"income\", color='blue', alpha=0.8, label='male income')\n",
    "female.plot.bar(x=\"city_type\", y=\"income\", color='red', alpha=0.8, label='female income')\n",
    "plt.title('Доходы мужчичн и женщин в городах', fontsize=15)\n",
    "plt.xlabel('city_type', fontsize=12)\n",
    "plt.ylabel('income', fontsize=12)\n",
    "plt.legend()\n",
    "\n",
    "# Вывод: доходы мужчин превышают доходы женщин в разного типа городах. Мужчинам платят больше."
   ]
  },
  {
   "cell_type": "code",
   "execution_count": 89,
   "metadata": {},
   "outputs": [
    {
     "data": {
      "text/plain": [
       "0.7698993542872464"
      ]
     },
     "execution_count": 89,
     "metadata": {},
     "output_type": "execute_result"
    }
   ],
   "source": [
    "# 4. Диаграмма рассеяния\n",
    "# Проверим, связаны ли между собой показатели по счетам клиентов 'casa_balance_0m' и доход от клиента без OPEX 'nbi'\n",
    "\n",
    "df['casa_balance_0m'].corr(df['nbi'])\n",
    "# коэффициент корреляции равен 0,77, можно интерпретировать это как средняя корреляция."
   ]
  },
  {
   "cell_type": "code",
   "execution_count": 95,
   "metadata": {},
   "outputs": [
    {
     "data": {
      "text/plain": [
       "Text(0, 0.5, 'nbi')"
      ]
     },
     "execution_count": 95,
     "metadata": {},
     "output_type": "execute_result"
    },
    {
     "data": {
      "image/png": "[encoded data removed]",
      "text/plain": [
       "<Figure size 864x504 with 1 Axes>"
      ]
     },
     "metadata": {
      "needs_background": "light"
     },
     "output_type": "display_data"
    }
   ],
   "source": [
    "# Построим диаграмму рассеяния\n",
    "\n",
    "df.plot(x=\"casa_balance_0m\", y=\"nbi\", kind=\"scatter\")\n",
    "plt.title('Зависимость дохода от клиента и показателя по счетам клиента', fontsize=15)\n",
    "plt.xlabel('casa_balance_0m', fontsize=12)\n",
    "plt.ylabel('nbi', fontsize=12)\n",
    "\n",
    "# Вывод: На графике видно, что имеет место слабая положительная корреляция. Это значит, что есть некоторая зависимость\n",
    "# между балансом на счетах клиентов и доходом от клиента без OPEX"
   ]
  },
  {
   "cell_type": "code",
   "execution_count": null,
   "metadata": {},
   "outputs": [],
   "source": []
  }
 ],
 "metadata": {
  "kernelspec": {
   "display_name": "Python 3 (ipykernel)",
   "language": "python",
   "name": "python3"
  },
  "language_info": {
   "codemirror_mode": {
    "name": "ipython",
    "version": 3
   },
   "file_extension": ".py",
   "mimetype": "text/x-python",
   "name": "python",
   "nbconvert_exporter": "python",
   "pygments_lexer": "ipython3",
   "version": "3.9.7"
  },
  "toc": {
   "base_numbering": 1,
   "nav_menu": {},
   "number_sections": true,
   "sideBar": true,
   "skip_h1_title": false,
   "title_cell": "Table of Contents",
   "title_sidebar": "Contents",
   "toc_cell": false,
   "toc_position": {},
   "toc_section_display": true,
   "toc_window_display": false
  }
 },
 "nbformat": 4,
 "nbformat_minor": 4
}
