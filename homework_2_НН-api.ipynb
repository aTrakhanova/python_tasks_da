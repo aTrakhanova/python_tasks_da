{
 "cells": [
  {
   "cell_type": "code",
   "execution_count": null,
   "id": "3f758d4d",
   "metadata": {},
   "outputs": [],
   "source": [
    "# Задание вытащить все вакансии СБЕРа с ХХ (у апи есть ограничение в 2000, подумайте как его обойти)\n",
    "# Вытащите все полные описания этих вакансий по запросу с https://api.hh.ru/vacancies/43326020 где 43326020 id вакансии"
   ]
  },
  {
   "cell_type": "code",
   "execution_count": 1,
   "id": "786fbce1",
   "metadata": {},
   "outputs": [],
   "source": [
    "import requests\n",
    "from tqdm import tqdm"
   ]
  },
  {
   "cell_type": "code",
   "execution_count": 3,
   "id": "6e70faad",
   "metadata": {},
   "outputs": [],
   "source": [
    "sber = '3529'     # идентификатор работодателя\n",
    "url = f'https://api.hh.ru/vacancies?employer_id={sber}' # адрес для получения вакансий конкретной компании\n",
    "page = 0          # нумерация начинается с 0\n",
    "per_page = 100    # 20 объектов на странице по умолчанию и 100 максимум"
   ]
  },
  {
   "cell_type": "code",
   "execution_count": 4,
   "id": "820f95d7",
   "metadata": {},
   "outputs": [
    {
     "data": {
      "text/plain": [
       "20"
      ]
     },
     "execution_count": 4,
     "metadata": {},
     "output_type": "execute_result"
    }
   ],
   "source": [
    "response = requests.get(url,\n",
    "                        params={\n",
    "                            'page': page,\n",
    "                            'per_page': per_page\n",
    "                        }\n",
    "                        )\n",
    "vacancies = response.json()\n",
    "number_of_pages = vacancies.get('pages')\n",
    "number_of_pages     # глубина возвращаемых результатов не может быть больше 2000"
   ]
  },
  {
   "cell_type": "code",
   "execution_count": 5,
   "id": "815663a0",
   "metadata": {},
   "outputs": [
    {
     "name": "stdout",
     "output_type": "stream",
     "text": [
      "Список ID вакансий собран\n"
     ]
    }
   ],
   "source": [
    "all_vacancies = []\n",
    "for sheet in tqdm(range(number_of_pages)):\n",
    "    url = f'https://api.hh.ru/vacancies?employer_id={sber}'\n",
    "    response = requests.get(url,\n",
    "                            params={\n",
    "                                'page': page,\n",
    "                                'per_page': per_page\n",
    "                            }\n",
    "                            )\n",
    "    vacancies = response.json()\n",
    "    vacancy_ids = [element.get('id') for element in vacancies.get('items')]\n",
    "    all_vacancies.extend(vacancy_ids)\n",
    "\n",
    "print('Список ID вакансий собран')"
   ]
  },
  {
   "cell_type": "code",
   "execution_count": 6,
   "id": "3ef9f63b",
   "metadata": {},
   "outputs": [
    {
     "data": {
      "text/plain": [
       "2000"
      ]
     },
     "execution_count": 6,
     "metadata": {},
     "output_type": "execute_result"
    }
   ],
   "source": [
    "len(all_vacancies)"
   ]
  },
  {
   "cell_type": "code",
   "execution_count": 9,
   "id": "c27751d6",
   "metadata": {},
   "outputs": [
    {
     "name": "stderr",
     "output_type": "stream",
     "text": [
      "100%|██████████████████████████████████████████████████████████████████████████████| 2000/2000 [32:50<00:00,  1.01it/s]"
     ]
    },
    {
     "name": "stdout",
     "output_type": "stream",
     "text": [
      "Список вакансий собран\n"
     ]
    },
    {
     "name": "stderr",
     "output_type": "stream",
     "text": [
      "\n"
     ]
    }
   ],
   "source": [
    "all_vacancies_description = []  # новый список с описанием вакансий\n",
    "\n",
    "for id in tqdm(all_vacancies):\n",
    "    url = f'https://api.hh.ru/vacancies/{id}' # адрес для получения отдельной вакансии\n",
    "    response_vac = requests.get(url, params={})\n",
    "    vacancy = response_vac.json()\n",
    "    all_vacancies_description.append(vacancy)\n",
    "\n",
    "print('Список вакансий собран')"
   ]
  },
  {
   "cell_type": "code",
   "execution_count": 10,
   "id": "e04807b0",
   "metadata": {},
   "outputs": [
    {
     "data": {
      "text/plain": [
       "2000"
      ]
     },
     "execution_count": 10,
     "metadata": {},
     "output_type": "execute_result"
    }
   ],
   "source": [
    "len(all_vacancies_description)"
   ]
  },
  {
   "cell_type": "code",
   "execution_count": 11,
   "id": "f90082ae",
   "metadata": {
    "collapsed": true
   },
   "outputs": [
    {
     "data": {
      "text/plain": [
       "{'id': '50711840',\n",
       " 'premium': False,\n",
       " 'billing_type': {'id': 'standard', 'name': 'Стандарт'},\n",
       " 'relations': [],\n",
       " 'name': 'Специалист СБЕР',\n",
       " 'insider_interview': None,\n",
       " 'response_letter_required': False,\n",
       " 'area': {'id': '66',\n",
       "  'name': 'Нижний Новгород',\n",
       "  'url': 'https://api.hh.ru/areas/66'},\n",
       " 'salary': {'from': 40062, 'to': 45438, 'currency': 'RUR', 'gross': True},\n",
       " 'type': {'id': 'open', 'name': 'Открытая'},\n",
       " 'address': {'city': 'Нижний Новгород',\n",
       "  'street': 'улица Академика Сахарова',\n",
       "  'building': '2А',\n",
       "  'description': None,\n",
       "  'lat': 56.266627,\n",
       "  'lng': 44.024743,\n",
       "  'raw': 'Нижний Новгород, улица Академика Сахарова, 2А',\n",
       "  'metro': None,\n",
       "  'metro_stations': []},\n",
       " 'allow_messages': True,\n",
       " 'site': {'id': 'hh', 'name': 'hh.ru'},\n",
       " 'experience': {'id': 'noExperience', 'name': 'Нет опыта'},\n",
       " 'schedule': {'id': 'shift', 'name': 'Сменный график'},\n",
       " 'employment': {'id': 'full', 'name': 'Полная занятость'},\n",
       " 'department': {'id': '3529-3529-stat', 'name': 'Сбер. Начало карьеры'},\n",
       " 'contacts': None,\n",
       " 'description': '<p>Сбер – один их самых привлекательных работодателей России. Ты можешь стать частью уникального бренда!</p> <p>Наша команда Службы заботы о клиентах поддерживает сотрудников и клиентов Сбера. Мы выполняем важную работу, разбираемся с интересными задачами и вносим свой вклад в развитие Сбера и его экосистемы.</p> <p>Мы не серьёзные люди в строгих костюмах. Мы — активная, разносторонняя и сплоченная команда, где сотрудников поддерживают при решении сложных задач и уважают личное пространство каждого.</p> <p>У тебя все получится! Мы расскажем, что нужно делать, проведем обучение сразу после трудоустройства.</p> <p><strong>Ты будешь:</strong></p> <ul> <li>консультировать клиентов и сотрудников Сбера в корпоративных мессенджерах или по телефону</li> <li>помогать клиентам Сбера решать вопросы по продуктам банка и экосистемы.</li> </ul> <p> </p> <p><strong>Работа с нами – это:</strong></p> <ul> <li>простые и понятные шаги для карьерного роста, возможность увеличить свою зарплату уже через 6 месяцев</li> <li>возможность влиять на свой доход самому: зарплата зависит от количества отработанных часов</li> <li>удобный график: дневные или вечерние смены с возможностью совмещать работу с учёбой и своими увлечениями.</li> </ul> <p><strong>Мы предлагаем:</strong></p> <ul> <li>стабильный оклад и социальную поддержку сотрудников</li> <li>работу с коллегами по всей России: Казань, Воронеж, Омск, Екатеринбург, Ставрополь, Самара, Волгоград, Нижний Новгород</li> <li>бесплатную подписку СберПрайм+, скидки на продукты компаний-партнеров: Okko, Сбер Маркет, Delivery Club, Самокат, Сбер Еаптека и других</li> <li>расширенный ДМС с первого дня и льготное страхование для близких</li> <li>обучение за счет компании: онлайн курсы в Виртуальной школе Сбера, возможность получить новую квалификацию</li> <li>современный офис с зонами отдыха, где можно поиграть в приставку, настольные игры или просто отдохнуть и корпоративный спортзал</li> <li>возможность проработать свои личные переживания со штатным психологом</li> <li>ипотеку выгоднее на 4% для каждого сотрудника</li> <li>мы ценим, если у тебя есть опыт работы в контактных центрах или службе поддержки, например: Тинькофф Банк, Альфа Банк, ВТБ, Мегафон, МТС, Билайн, Почта Банк, ОТП Банк, Ростелеком, Эр-Телеком, М.Видео, Эльдорадо, Связной, Авито и др., и готовы предложить индивидуальные условия оформления.</li> </ul> <p> </p> <p>Присоединяйся к команде Сбера!в течении часа. Добро пожаловать!</p>',\n",
       " 'branded_description': '\\n<style>\\n.tmpl_hh_wrapper p,\\n.tmpl_hh_wrapper a,\\n.tmpl_hh_wrapper img,\\n.tmpl_hh_wrapper ol,\\n.tmpl_hh_wrapper ul,\\n.tmpl_hh_wrapper li {\\n    margin: 0;\\n    padding: 0;\\n    border: 0;\\n    font-size: 100%;\\n    font: inherit;\\n    vertical-align: baseline;\\n}\\n\\n.tmpl_hh_video {\\n    position: relative;\\n}\\n\\n.tmpl_hh_video iframe {\\n    position: absolute;\\n    top: 0;\\n    left: 0;\\n    width: 100%;\\n    height: 100%;\\n}\\n\\n.tmpl_hh_wrapper p {\\n    width: auto;\\n    max-width: 100%;\\n}\\n\\n.tmpl_hh_wrapper img {\\n    display: block;\\n    width: 100%;\\n}\\n\\n.hht-vacancydescription {\\n    padding: 0px;\\n}\\n\\n.tmpl_hh_wrapper .l-cell,\\n.tmpl_hh_wrapper .l-paddings {\\n    padding: 0px !important;\\n}\\n\\n.tmpl_hh_wrapper .b-vacancy-desc-wrapper {\\n    margin-top: 0px !important;\\n}\\n\\n.tmpl_hh_wrapper .b-vacancy-desc {\\n    overflow: visible !important;\\n    line-height: inherit;\\n}\\n\\n.tmpl_hh_content ol li b,\\n.tmpl_hh_content ol li strong,\\n.tmpl_hh_content ol li p b,\\n.tmpl_hh_content ol li p strong,\\n.tmpl_hh_content ul li b,\\n.tmpl_hh_content ul li strong,\\n.tmpl_hh_content ul li p b,\\n.tmpl_hh_content ul li p strong {\\n    font-weight: normal;\\n    font-size: inherit !important;\\n    color: inherit !important;\\n    margin: 0 !important;\\n    text-transform: none;\\n}\\n\\n.tmpl_hh_content ol li p,\\n.tmpl_hh_content ul li p {\\n    font-weight: normal;\\n    margin: 0;\\n}\\n\\n.tmpl_hh_content p b,\\n.tmpl_hh_content p strong {\\n    display: inline;\\n    margin: 0;\\n}\\n\\n.tmpl_hh_wrapper {\\n    width: 100%;\\n    margin: 0 auto;\\n    max-width: 690px;\\n    position: relative;\\n    word-break: normal;\\n    font-family: \\'Arial\\';\\n    color: #333F48;\\n    font-size: 16px;\\n    line-height: 22px;\\n    letter-spacing: 0.03em;\\n    overflow: hidden;\\n}\\n\\n.tmpl_hh_wrapper::after {\\n    content: \\'\\';\\n    display: block;\\n    width: 100%;\\n    padding-bottom: 11.74%;\\n    background: url(https://hhcdn.ru/ichameleon/171012.jpg) 0 0/cover no-repeat;\\n}\\n\\n.tmpl_hh_inner_wrapper {\\n    padding: 0 6.9%;\\n}\\n\\n.tmpl_hh_content {\\n    margin-top: 34px;\\n}\\n\\n.tmpl_hh_content p:first-child,\\n.tmpl_hh_content>strong:first-child,\\n.tmpl_hh_content div>strong:first-child {\\n    margin-top: 0 !important;\\n}\\n\\n.tmpl_hh_content p,\\n.tmpl_hh_content b,\\n.tmpl_hh_content strong {\\n    margin: 24px 0 20px;\\n}\\n\\np.tmpl_hh_title,\\n.tmpl_hh_content b,\\n.tmpl_hh_content strong {\\n    display: inline-block;\\n    font-weight: normal;\\n    font-size: 32px;\\n    line-height: 1.28;\\n    letter-spacing: 0;\\n}\\n\\n.tmpl_hh_content ol,\\n.tmpl_hh_content ul {\\n    margin-left: 15px;\\n    list-style: none !important;\\n}\\n\\n.tmpl_hh_content ol {\\n    counter-reset: list_counter;\\n}\\n\\n.tmpl_hh_content li {\\n    position: relative;\\n    margin-bottom: 8px;\\n}\\n\\n.tmpl_hh_content ul ul,\\n.tmpl_hh_content ul ol,\\n.tmpl_hh_content ol ol,\\n.tmpl_hh_content ol ul {\\n    margin-top: 8px;\\n    margin-bottom: 8px;\\n}\\n\\n.tmpl_hh_content ol>li {\\n    counter-increment: list_counter;\\n}\\n\\n.tmpl_hh_content li:before {\\n    content: \\'\\';\\n    position: absolute;\\n    left: -18px;\\n    top: 0;\\n}\\n\\n.tmpl_hh_content ul>li:before {\\n    content: \\'\\\\2022\\';\\n    font-size: 18px;\\n}\\n\\n.tmpl_hh_content ol>li:before {\\n    content: counter(list_counter) \".\";\\n    left: auto;\\n    right: 100%;\\n    margin-right: 2px;\\n}\\n\\n.tmpl_hh_tour {\\n    margin-top: 48px;\\n}\\n\\n.tmpl_hh_tour__container {\\n    position: relative;\\n    width: 100%;\\n    padding-bottom: 56.2%;\\n}\\n\\n.tmpl_hh_tour__container iframe {\\n    position: absolute;\\n    top: 0;\\n    left: 0;\\n    width: 100%;\\n    height: 100%;\\n}\\n\\n.tmpl_hh_tour .tmpl_hh_title {\\n    margin-bottom: 24px;\\n}\\n\\n.tmpl_hh_conditions {\\n    margin-top: 48px;\\n}\\n\\n.tmpl_hh_conditions .tmpl_hh_title {\\n    margin-bottom: 45px;\\n}\\n\\n.tmpl_hh_conditions__container {\\n    display: -webkit-box;\\n    display: -ms-flexbox;\\n    display: flex;\\n    -ms-flex-wrap: wrap;\\n    flex-wrap: wrap;\\n    -webkit-box-pack: justify;\\n    -ms-flex-pack: justify;\\n    justify-content: space-between;\\n}\\n\\n.tmpl_hh_conditions__container .tmpl_hh_item {\\n    display: -webkit-box;\\n    display: -ms-flexbox;\\n    display: flex;\\n    align-items: flex-start;\\n    width: 46%;\\n    margin-bottom: 20px;\\n}\\n\\n.tmpl_hh_conditions__container .tmpl_hh_item__icon {\\n    -ms-flex-negative: 0;\\n    flex-shrink: 0;\\n    width: 40px;\\n    margin-right: 15px;\\n}\\n\\n.tmpl_hh_conditions__container .tmpl_hh_item p {\\n    letter-spacing: 0;\\nfont-size: 14px;\\nline-height: 16px;\\ncolor: #333F48;\\n}\\n\\n.tmpl_hh_making_better .tmpl_hh_title {\\n    margin-bottom: 32px;\\n}\\n\\n.tmpl_hh_making_better .tmpl_hh_video {\\n    width: 100%;\\n    padding-bottom: 56.6%;\\n    border-radius: 24px;\\n    overflow: hidden;\\n}\\n\\n.tmpl_hh_footer {\\n    margin-top: 62px;\\n    padding-bottom: 15px;\\n}\\n\\n.tmpl_hh_footer .tmpl_hh_slogan {\\n    width: 348px;\\n}\\n\\n.tmpl_hh_banner {\\n    position: relative;\\n}\\n\\nimg.tmpl_hh_logo {\\n    position: absolute;\\n    top: 0%;\\n    left: 0%;\\n    width: 28.7%;\\n}\\n\\n\\n@media screen and (max-width: 699px) {\\n    .tmpl_hh_wrapper {\\n        font-size: 14px;\\n        line-height: 20px;\\n    }\\n\\n    .tmpl_hh_inner_wrapper {\\n        padding: 0 8%;\\n    }\\n\\n    .tmpl_hh_banner {\\n        padding: 0;\\n    }\\n\\n    .tmpl_hh_content {\\n        margin-top: 33px;\\n    }\\n\\n    p.tmpl_hh_title,\\n    .tmpl_hh_content b,\\n    .tmpl_hh_content strong {\\n        font-size: 24px;\\n        line-height: 34px;\\n    }\\n\\n    .tmpl_hh_content li:before {\\n        left: -16px;\\n    }\\n\\n    .tmpl_hh_conditions {\\n        margin-top: 32px;\\n    }\\n\\n    .tmpl_hh_conditions .tmpl_hh_title {\\n        margin-bottom: 25px;\\n    }\\n\\n    .tmpl_hh_conditions__container .tmpl_hh_item {\\n        width: 300px;\\n        margin-bottom: 32px;\\n    }\\n\\n    .tmpl_hh_conditions__container .tmpl_hh_item__icon {\\n        margin-right: 24px;\\n    }\\n\\n    .tmpl_hh_conditions__container .tmpl_hh_item p {\\n        font-size: 16px;\\n        line-height: 22px;\\n    }\\n\\n    .tmpl_hh_tour__container {\\n        padding-bottom: 115%;\\n    }\\n\\n    .tmpl_hh_making_better {\\n        margin-top: -1px;\\n    }\\n\\n    .tmpl_hh_making_better .tmpl_hh_title {\\n        margin-bottom: 24px;\\n    }\\n\\n    .tmpl_hh_making_better .tmpl_hh_video {\\n        position: relative;\\n        left: 50%;\\n        width: 100%;\\n        min-width: 300px;\\n        padding-bottom: 67.1%;\\n        -webkit-transform: translateX(-50%);\\n        -ms-transform: translateX(-50%);\\n        transform: translateX(-50%);\\n        border-radius: 14px;\\n    }\\n\\n    .tmpl_hh_footer {\\n        margin-top: 32px;\\n        padding-bottom: 39px;\\n    }\\n\\n    .tmpl_hh_footer .tmpl_hh_slogan {\\n        width: 67%;\\n    }\\n}\\n</style>\\n\\n<script>\\n//\\ndocument.addEventListener(\\'DOMContentLoaded\\', function() {});\\n//\\n</script>\\n\\n\\n    <div class=\"tmpl_hh_wrapper\">\\n        <div class=\"tmpl_hh_banner\"><img class=\"tmpl_hh_logo\" src=\"https://hhcdn.ru/ichameleon/190196.png\" alt=\"\"><img src=\"https://hhcdn.ru/ichameleon/171001.jpg\" alt=\"\"></div>\\n        <div class=\"tmpl_hh_inner_wrapper\">\\n\\n            <div class=\"tmpl_hh_content\">\\n        <p>Сбер – один их самых привлекательных работодателей России. Ты можешь стать частью уникального бренда!</p> <p>Наша команда Службы заботы о клиентах поддерживает сотрудников и клиентов Сбера. Мы выполняем важную работу, разбираемся с интересными задачами и вносим свой вклад в развитие Сбера и его экосистемы.</p> <p>Мы не серьёзные люди в строгих костюмах. Мы — активная, разносторонняя и сплоченная команда, где сотрудников поддерживают при решении сложных задач и уважают личное пространство каждого.</p> <p>У тебя все получится! Мы расскажем, что нужно делать, проведем обучение сразу после трудоустройства.</p> <p><strong>Ты будешь:</strong></p> <ul> <li>консультировать клиентов и сотрудников Сбера в корпоративных мессенджерах или по телефону</li> <li>помогать клиентам Сбера решать вопросы по продуктам банка и экосистемы.</li> </ul> <p> </p> <p><strong>Работа с нами – это:</strong></p> <ul> <li>простые и понятные шаги для карьерного роста, возможность увеличить свою зарплату уже через 6 месяцев</li> <li>возможность влиять на свой доход самому: зарплата зависит от количества отработанных часов</li> <li>удобный график: дневные или вечерние смены с возможностью совмещать работу с учёбой и своими увлечениями.</li> </ul> <p><strong>Мы предлагаем:</strong></p> <ul> <li>стабильный оклад и социальную поддержку сотрудников</li> <li>работу с коллегами по всей России: Казань, Воронеж, Омск, Екатеринбург, Ставрополь, Самара, Волгоград, Нижний Новгород</li> <li>бесплатную подписку СберПрайм+, скидки на продукты компаний-партнеров: Okko, Сбер Маркет, Delivery Club, Самокат, Сбер Еаптека и других</li> <li>расширенный ДМС с первого дня и льготное страхование для близких</li> <li>обучение за счет компании: онлайн курсы в Виртуальной школе Сбера, возможность получить новую квалификацию</li> <li>современный офис с зонами отдыха, где можно поиграть в приставку, настольные игры или просто отдохнуть и корпоративный спортзал</li> <li>возможность проработать свои личные переживания со штатным психологом</li> <li>ипотеку выгоднее на 4% для каждого сотрудника</li> <li>мы ценим, если у тебя есть опыт работы в контактных центрах или службе поддержки, например: Тинькофф Банк, Альфа Банк, ВТБ, Мегафон, МТС, Билайн, Почта Банк, ОТП Банк, Ростелеком, Эр-Телеком, М.Видео, Эльдорадо, Связной, Авито и др., и готовы предложить индивидуальные условия оформления.</li> </ul> <p> </p> <p>Присоединяйся к команде Сбера!в течении часа. Добро пожаловать!</p></div>\\n            <!--div class=\"tmpl_hh_tour\">\\n                <p class=\"tmpl_hh_title\">Виртуальный тур</p>\\n                <div class=\"tmpl_hh_tour__container\"><iframe src=\"https://rabota3812.ru/3d/erkctour.html\"></iframe></div>\\n            </div-->\\n\\n            <div class=\"tmpl_hh_conditions\">\\n                <p class=\"tmpl_hh_title\">Работа в Сбере – это:</p>\\n                <div class=\"tmpl_hh_conditions__container\">\\n                    <div class=\"tmpl_hh_item\">\\n                        <div class=\"tmpl_hh_item__icon\"><img src=\"https://hhcdn.ru/ichameleon/217978.svg\" alt=\"\"></div>\\n                        <p>Обучение за счет компании: онлайн курсы в Виртуальной школе Сбера, возможность получить новую квалификацию</p>\\n                    </div>\\n                    <div class=\"tmpl_hh_item\">\\n                        <div class=\"tmpl_hh_item__icon\"><img src=\"https://hhcdn.ru/ichameleon/217979.svg\" alt=\"\"></div>\\n                        <p>Реферальная программа для сотрудников: пригласи в команду знакомых профессионалов и получи свое вознаграждение до 100 тыс. рублей</p>\\n                    </div>\\n                    <div class=\"tmpl_hh_item\">\\n                        <div class=\"tmpl_hh_item__icon\"><img src=\"https://hhcdn.ru/ichameleon/217980.svg\" alt=\"\"></div>\\n                        <p>Курсы для будущих родителей, материальная поддержка молодых мам, детский отдых и подарки за счет компании</p>\\n                    </div>\\n                    <div class=\"tmpl_hh_item\">\\n                        <div class=\"tmpl_hh_item__icon\"><img src=\"https://hhcdn.ru/ichameleon/217981.svg\" alt=\"\"></div>\\n                        <p>Корпоративная пенсионная программа</p>\\n                    </div>\\n                </div>\\n            </div>\\n\\n            <div class=\"tmpl_hh_making_better\">\\n                <p class=\"tmpl_hh_title\">Делай мир лучше со Сбером</p>\\n                <div class=\"tmpl_hh_video\">\\n                    <iframe width=\"727\" height=\"409\" src=\"https://www.youtube.com/embed/e94X0dThs4U\" title=\"YouTube video player\" frameborder=\"0\" allow=\"accelerometer; autoplay; clipboard-write; encrypted-media; gyroscope; picture-in-picture\" allowfullscreen=\"allowfullscreen\"><!----></iframe>\\n                </div>\\n            </div>\\n\\n            <div class=\"tmpl_hh_footer\">\\n                <div class=\"tmpl_hh_slogan\"><img src=\"https://hhcdn.ru/ichameleon/171005.svg\" alt=\"\"></div>\\n            </div>\\n        </div>\\n    </div>\\n\\n',\n",
       " 'vacancy_constructor_template': None,\n",
       " 'key_skills': [{'name': '#Менеджер_телефонных_продаж'},\n",
       "  {'name': '#Оператор_call_центра_входящие_звонки'},\n",
       "  {'name': '#Оператор_Call_центра'},\n",
       "  {'name': '#Менеджер_телефонных_продаж_Менеджер_Колл_Центра'},\n",
       "  {'name': '#Специалист_Call_центра'},\n",
       "  {'name': '#Менеджер_колл_центра'},\n",
       "  {'name': '#Специалист_по_работе_с_клиентами_Оператор_колл_центра'},\n",
       "  {'name': '#Специалист_контактного_центра_Оператор_call_центра'},\n",
       "  {'name': '#Оператор_контакт_центра'},\n",
       "  {'name': '#Консультант_в_контактный_центр'},\n",
       "  {'name': '#Специалист_контакт_центра'},\n",
       "  {'name': '#Оператор_контактного_центра'},\n",
       "  {'name': '#Менеджер _контактного_центра'},\n",
       "  {'name': '#Специалист_в_отдел_поддержки_клиентов'},\n",
       "  {'name': '#Консультант_по_банковским_услугам'},\n",
       "  {'name': '#Специалист_по_работе_с_клиентами'},\n",
       "  {'name': '#Оператор_входящей_линии'},\n",
       "  {'name': '#Оператор_поддержки_клиентов_контакт_центра_без_продаж'}],\n",
       " 'accept_handicapped': False,\n",
       " 'accept_kids': False,\n",
       " 'archived': False,\n",
       " 'response_url': None,\n",
       " 'specializations': [{'id': '17.242',\n",
       "   'name': 'Прямые продажи',\n",
       "   'profarea_id': '17',\n",
       "   'profarea_name': 'Продажи'},\n",
       "  {'id': '17.196',\n",
       "   'name': 'Оптовая торговля',\n",
       "   'profarea_id': '17',\n",
       "   'profarea_name': 'Продажи'},\n",
       "  {'id': '17.149',\n",
       "   'name': 'Менеджер по работе с клиентами',\n",
       "   'profarea_id': '17',\n",
       "   'profarea_name': 'Продажи'}],\n",
       " 'professional_roles': [{'id': '70',\n",
       "   'name': 'Менеджер по продажам, менеджер по работе с клиентами'}],\n",
       " 'code': None,\n",
       " 'hidden': False,\n",
       " 'quick_responses_allowed': False,\n",
       " 'driver_license_types': [],\n",
       " 'accept_incomplete_resumes': True,\n",
       " 'employer': {'id': '3529',\n",
       "  'name': 'Сбербанк',\n",
       "  'url': 'https://api.hh.ru/employers/3529',\n",
       "  'alternate_url': 'https://hh.ru/employer/3529',\n",
       "  'logo_urls': {'original': 'https://hhcdn.ru/employer-logo-original/868362.JPG',\n",
       "   '90': 'https://hhcdn.ru/employer-logo/3914323.jpeg',\n",
       "   '240': 'https://hhcdn.ru/employer-logo/3914324.jpeg'},\n",
       "  'vacancies_url': 'https://api.hh.ru/vacancies?employer_id=3529',\n",
       "  'trusted': True},\n",
       " 'published_at': '2022-03-23T14:43:28+0300',\n",
       " 'created_at': '2022-03-23T14:43:28+0300',\n",
       " 'negotiations_url': None,\n",
       " 'suitable_resumes_url': None,\n",
       " 'apply_alternate_url': 'https://hh.ru/applicant/vacancy_response?vacancyId=50711840',\n",
       " 'has_test': False,\n",
       " 'test': None,\n",
       " 'alternate_url': 'https://hh.ru/vacancy/50711840',\n",
       " 'working_days': [],\n",
       " 'working_time_intervals': [],\n",
       " 'working_time_modes': [],\n",
       " 'accept_temporary': False}"
      ]
     },
     "execution_count": 11,
     "metadata": {},
     "output_type": "execute_result"
    }
   ],
   "source": [
    "all_vacancies_description[10]"
   ]
  },
  {
   "cell_type": "code",
   "execution_count": null,
   "id": "0c6cfbc8",
   "metadata": {},
   "outputs": [],
   "source": [
    "# Создайте аналогичный vacancy DataFrame только добавьте поле skills\n",
    "# Переведите даты публикаций в datetime\n",
    "# Постройте график опубликованных вакансий по датам\n",
    "# Переведите даты в дни недели, и определите день недели, в который больше всего публикуют вакансий\n",
    "# Найдите те вакансии с использованием python, которые вам интересны\n",
    "# Определите по полю skills какие навыки больше всего востребованы для этих вакансий, и\n",
    "# Постройте график наиболее востребованных вакансий"
   ]
  },
  {
   "cell_type": "code",
   "execution_count": 12,
   "id": "5e621f89",
   "metadata": {},
   "outputs": [],
   "source": [
    "import pandas as pd"
   ]
  },
  {
   "cell_type": "code",
   "execution_count": 74,
   "id": "5db395b1",
   "metadata": {},
   "outputs": [
    {
     "data": {
      "text/html": [
       "<div>\n",
       "<style scoped>\n",
       "    .dataframe tbody tr th:only-of-type {\n",
       "        vertical-align: middle;\n",
       "    }\n",
       "\n",
       "    .dataframe tbody tr th {\n",
       "        vertical-align: top;\n",
       "    }\n",
       "\n",
       "    .dataframe thead th {\n",
       "        text-align: right;\n",
       "    }\n",
       "</style>\n",
       "<table border=\"1\" class=\"dataframe\">\n",
       "  <thead>\n",
       "    <tr style=\"text-align: right;\">\n",
       "      <th></th>\n",
       "      <th>id</th>\n",
       "      <th>name</th>\n",
       "      <th>area</th>\n",
       "      <th>salary</th>\n",
       "      <th>experience</th>\n",
       "      <th>schedule</th>\n",
       "      <th>employment</th>\n",
       "      <th>description</th>\n",
       "      <th>skills</th>\n",
       "      <th>published_at</th>\n",
       "      <th>created_at</th>\n",
       "    </tr>\n",
       "  </thead>\n",
       "  <tbody>\n",
       "    <tr>\n",
       "      <th>0</th>\n",
       "      <td>54044500</td>\n",
       "      <td>Специалист контактного центра</td>\n",
       "      <td>{'id': '3', 'name': 'Екатеринбург', 'url': 'ht...</td>\n",
       "      <td>{'from': 50000, 'to': 82000, 'currency': 'RUR'...</td>\n",
       "      <td>{'id': 'noExperience', 'name': 'Нет опыта'}</td>\n",
       "      <td>{'id': 'remote', 'name': 'Удаленная работа'}</td>\n",
       "      <td>{'id': 'full', 'name': 'Полная занятость'}</td>\n",
       "      <td>&lt;p&gt;Сбер – это не только компания с многолетней...</td>\n",
       "      <td>[]</td>\n",
       "      <td>2022-03-18T13:41:11+0300</td>\n",
       "      <td>2022-03-18T13:41:11+0300</td>\n",
       "    </tr>\n",
       "    <tr>\n",
       "      <th>1</th>\n",
       "      <td>53568652</td>\n",
       "      <td>Менеджер по обслуживанию</td>\n",
       "      <td>{'id': '1', 'name': 'Москва', 'url': 'https://...</td>\n",
       "      <td>{'from': 67000, 'to': None, 'currency': 'RUR',...</td>\n",
       "      <td>{'id': 'between1And3', 'name': 'От 1 года до 3...</td>\n",
       "      <td>{'id': 'fullDay', 'name': 'Полный день'}</td>\n",
       "      <td>{'id': 'full', 'name': 'Полная занятость'}</td>\n",
       "      <td>&lt;p&gt;Сбер — лучший работодатель России. У нас бо...</td>\n",
       "      <td>[]</td>\n",
       "      <td>2022-03-09T13:38:12+0300</td>\n",
       "      <td>2022-03-09T13:38:12+0300</td>\n",
       "    </tr>\n",
       "    <tr>\n",
       "      <th>2</th>\n",
       "      <td>54366750</td>\n",
       "      <td>Курьер</td>\n",
       "      <td>{'id': '1', 'name': 'Москва', 'url': 'https://...</td>\n",
       "      <td>{'from': 55000, 'to': None, 'currency': 'RUR',...</td>\n",
       "      <td>{'id': 'noExperience', 'name': 'Нет опыта'}</td>\n",
       "      <td>{'id': 'fullDay', 'name': 'Полный день'}</td>\n",
       "      <td>{'id': 'full', 'name': 'Полная занятость'}</td>\n",
       "      <td>&lt;p&gt;&lt;strong&gt;Если ты:&lt;/strong&gt;&lt;/p&gt; &lt;ul&gt; &lt;li&gt;легк...</td>\n",
       "      <td>[{'name': 'Грамотная речь'}, {'name': 'Работа ...</td>\n",
       "      <td>2022-03-28T09:22:06+0300</td>\n",
       "      <td>2022-03-28T09:22:06+0300</td>\n",
       "    </tr>\n",
       "    <tr>\n",
       "      <th>3</th>\n",
       "      <td>54036425</td>\n",
       "      <td>Специалист по документообороту</td>\n",
       "      <td>{'id': '1', 'name': 'Москва', 'url': 'https://...</td>\n",
       "      <td>None</td>\n",
       "      <td>{'id': 'noExperience', 'name': 'Нет опыта'}</td>\n",
       "      <td>{'id': 'fullDay', 'name': 'Полный день'}</td>\n",
       "      <td>{'id': 'full', 'name': 'Полная занятость'}</td>\n",
       "      <td>&lt;p&gt;&lt;strong&gt;Обязанности&lt;/strong&gt;:&lt;/p&gt; &lt;ul&gt; &lt;li&gt;...</td>\n",
       "      <td>[{'name': 'Документооборот'}, {'name': 'Электр...</td>\n",
       "      <td>2022-03-18T11:24:10+0300</td>\n",
       "      <td>2022-03-18T11:24:10+0300</td>\n",
       "    </tr>\n",
       "    <tr>\n",
       "      <th>4</th>\n",
       "      <td>54525748</td>\n",
       "      <td>Стажёр по направлению \"DevOps\" от SBERSEASONS</td>\n",
       "      <td>{'id': '1', 'name': 'Москва', 'url': 'https://...</td>\n",
       "      <td>{'from': 30000, 'to': 50000, 'currency': 'RUR'...</td>\n",
       "      <td>{'id': 'noExperience', 'name': 'Нет опыта'}</td>\n",
       "      <td>{'id': 'flexible', 'name': 'Гибкий график'}</td>\n",
       "      <td>{'id': 'probation', 'name': 'Стажировка'}</td>\n",
       "      <td>&lt;p&gt;Sberseasons – это отличная возможность сове...</td>\n",
       "      <td>[{'name': 'Python'}, {'name': 'Git'}, {'name':...</td>\n",
       "      <td>2022-04-01T19:38:14+0300</td>\n",
       "      <td>2022-04-01T19:38:14+0300</td>\n",
       "    </tr>\n",
       "    <tr>\n",
       "      <th>...</th>\n",
       "      <td>...</td>\n",
       "      <td>...</td>\n",
       "      <td>...</td>\n",
       "      <td>...</td>\n",
       "      <td>...</td>\n",
       "      <td>...</td>\n",
       "      <td>...</td>\n",
       "      <td>...</td>\n",
       "      <td>...</td>\n",
       "      <td>...</td>\n",
       "      <td>...</td>\n",
       "    </tr>\n",
       "    <tr>\n",
       "      <th>1995</th>\n",
       "      <td>54541870</td>\n",
       "      <td>Ведущий специалист по взысканию</td>\n",
       "      <td>{'id': '47', 'name': 'Кемерово', 'url': 'https...</td>\n",
       "      <td>{'from': 52700, 'to': None, 'currency': 'RUR',...</td>\n",
       "      <td>{'id': 'noExperience', 'name': 'Нет опыта'}</td>\n",
       "      <td>{'id': 'flexible', 'name': 'Гибкий график'}</td>\n",
       "      <td>{'id': 'full', 'name': 'Полная занятость'}</td>\n",
       "      <td>&lt;p&gt;Специалист по взысканию помогает клиентам, ...</td>\n",
       "      <td>[{'name': 'Телефонные переговоры'}, {'name': '...</td>\n",
       "      <td>2022-04-04T08:40:54+0300</td>\n",
       "      <td>2022-04-04T08:40:54+0300</td>\n",
       "    </tr>\n",
       "    <tr>\n",
       "      <th>1996</th>\n",
       "      <td>54514247</td>\n",
       "      <td>Старший юрисконсульт</td>\n",
       "      <td>{'id': '53', 'name': 'Краснодар', 'url': 'http...</td>\n",
       "      <td>None</td>\n",
       "      <td>{'id': 'between3And6', 'name': 'От 3 до 6 лет'}</td>\n",
       "      <td>{'id': 'fullDay', 'name': 'Полный день'}</td>\n",
       "      <td>{'id': 'full', 'name': 'Полная занятость'}</td>\n",
       "      <td>&lt;p&gt;&lt;strong&gt;Обязанности:&lt;/strong&gt;&lt;/p&gt; &lt;ul&gt; &lt;li&gt;...</td>\n",
       "      <td>[]</td>\n",
       "      <td>2022-04-01T13:17:39+0300</td>\n",
       "      <td>2022-04-01T13:17:39+0300</td>\n",
       "    </tr>\n",
       "    <tr>\n",
       "      <th>1997</th>\n",
       "      <td>46348073</td>\n",
       "      <td>Старший менеджер по обслуживанию (Металлургиче...</td>\n",
       "      <td>{'id': '104', 'name': 'Челябинск', 'url': 'htt...</td>\n",
       "      <td>{'from': 45200, 'to': None, 'currency': 'RUR',...</td>\n",
       "      <td>{'id': 'noExperience', 'name': 'Нет опыта'}</td>\n",
       "      <td>{'id': 'fullDay', 'name': 'Полный день'}</td>\n",
       "      <td>{'id': 'full', 'name': 'Полная занятость'}</td>\n",
       "      <td>&lt;p&gt;Сбер — лучший работодатель России. У нас бо...</td>\n",
       "      <td>[{'name': 'Работа в команде'}, {'name': 'Работ...</td>\n",
       "      <td>2022-03-20T09:39:51+0300</td>\n",
       "      <td>2022-03-20T09:39:51+0300</td>\n",
       "    </tr>\n",
       "    <tr>\n",
       "      <th>1998</th>\n",
       "      <td>50752498</td>\n",
       "      <td>Специалист поддержки корпоративных клиентов</td>\n",
       "      <td>{'id': '66', 'name': 'Нижний Новгород', 'url':...</td>\n",
       "      <td>{'from': 43500, 'to': None, 'currency': 'RUR',...</td>\n",
       "      <td>{'id': 'noExperience', 'name': 'Нет опыта'}</td>\n",
       "      <td>{'id': 'shift', 'name': 'Сменный график'}</td>\n",
       "      <td>{'id': 'full', 'name': 'Полная занятость'}</td>\n",
       "      <td>&lt;p&gt;&lt;strong&gt;Сбер ищет специалиста, который буде...</td>\n",
       "      <td>[{'name': 'Деловая переписка'}, {'name': 'Дело...</td>\n",
       "      <td>2022-04-01T12:17:01+0300</td>\n",
       "      <td>2022-04-01T12:17:01+0300</td>\n",
       "    </tr>\n",
       "    <tr>\n",
       "      <th>1999</th>\n",
       "      <td>54488898</td>\n",
       "      <td>Клиентский менеджер Сбербанк Премьер</td>\n",
       "      <td>{'id': '2077', 'name': 'Химки', 'url': 'https:...</td>\n",
       "      <td>{'from': 97200, 'to': None, 'currency': 'RUR',...</td>\n",
       "      <td>{'id': 'between1And3', 'name': 'От 1 года до 3...</td>\n",
       "      <td>{'id': 'fullDay', 'name': 'Полный день'}</td>\n",
       "      <td>{'id': 'full', 'name': 'Полная занятость'}</td>\n",
       "      <td>&lt;p&gt;Сбербанк Премьер – это особый формат обслуж...</td>\n",
       "      <td>[]</td>\n",
       "      <td>2022-03-31T13:49:40+0300</td>\n",
       "      <td>2022-03-31T13:49:40+0300</td>\n",
       "    </tr>\n",
       "  </tbody>\n",
       "</table>\n",
       "<p>2000 rows × 11 columns</p>\n",
       "</div>"
      ],
      "text/plain": [
       "            id                                               name  \\\n",
       "0     54044500                      Специалист контактного центра   \n",
       "1     53568652                           Менеджер по обслуживанию   \n",
       "2     54366750                                             Курьер   \n",
       "3     54036425                     Специалист по документообороту   \n",
       "4     54525748      Стажёр по направлению \"DevOps\" от SBERSEASONS   \n",
       "...        ...                                                ...   \n",
       "1995  54541870                    Ведущий специалист по взысканию   \n",
       "1996  54514247                               Старший юрисконсульт   \n",
       "1997  46348073  Старший менеджер по обслуживанию (Металлургиче...   \n",
       "1998  50752498        Специалист поддержки корпоративных клиентов   \n",
       "1999  54488898               Клиентский менеджер Сбербанк Премьер   \n",
       "\n",
       "                                                   area  \\\n",
       "0     {'id': '3', 'name': 'Екатеринбург', 'url': 'ht...   \n",
       "1     {'id': '1', 'name': 'Москва', 'url': 'https://...   \n",
       "2     {'id': '1', 'name': 'Москва', 'url': 'https://...   \n",
       "3     {'id': '1', 'name': 'Москва', 'url': 'https://...   \n",
       "4     {'id': '1', 'name': 'Москва', 'url': 'https://...   \n",
       "...                                                 ...   \n",
       "1995  {'id': '47', 'name': 'Кемерово', 'url': 'https...   \n",
       "1996  {'id': '53', 'name': 'Краснодар', 'url': 'http...   \n",
       "1997  {'id': '104', 'name': 'Челябинск', 'url': 'htt...   \n",
       "1998  {'id': '66', 'name': 'Нижний Новгород', 'url':...   \n",
       "1999  {'id': '2077', 'name': 'Химки', 'url': 'https:...   \n",
       "\n",
       "                                                 salary  \\\n",
       "0     {'from': 50000, 'to': 82000, 'currency': 'RUR'...   \n",
       "1     {'from': 67000, 'to': None, 'currency': 'RUR',...   \n",
       "2     {'from': 55000, 'to': None, 'currency': 'RUR',...   \n",
       "3                                                  None   \n",
       "4     {'from': 30000, 'to': 50000, 'currency': 'RUR'...   \n",
       "...                                                 ...   \n",
       "1995  {'from': 52700, 'to': None, 'currency': 'RUR',...   \n",
       "1996                                               None   \n",
       "1997  {'from': 45200, 'to': None, 'currency': 'RUR',...   \n",
       "1998  {'from': 43500, 'to': None, 'currency': 'RUR',...   \n",
       "1999  {'from': 97200, 'to': None, 'currency': 'RUR',...   \n",
       "\n",
       "                                             experience  \\\n",
       "0           {'id': 'noExperience', 'name': 'Нет опыта'}   \n",
       "1     {'id': 'between1And3', 'name': 'От 1 года до 3...   \n",
       "2           {'id': 'noExperience', 'name': 'Нет опыта'}   \n",
       "3           {'id': 'noExperience', 'name': 'Нет опыта'}   \n",
       "4           {'id': 'noExperience', 'name': 'Нет опыта'}   \n",
       "...                                                 ...   \n",
       "1995        {'id': 'noExperience', 'name': 'Нет опыта'}   \n",
       "1996    {'id': 'between3And6', 'name': 'От 3 до 6 лет'}   \n",
       "1997        {'id': 'noExperience', 'name': 'Нет опыта'}   \n",
       "1998        {'id': 'noExperience', 'name': 'Нет опыта'}   \n",
       "1999  {'id': 'between1And3', 'name': 'От 1 года до 3...   \n",
       "\n",
       "                                          schedule  \\\n",
       "0     {'id': 'remote', 'name': 'Удаленная работа'}   \n",
       "1         {'id': 'fullDay', 'name': 'Полный день'}   \n",
       "2         {'id': 'fullDay', 'name': 'Полный день'}   \n",
       "3         {'id': 'fullDay', 'name': 'Полный день'}   \n",
       "4      {'id': 'flexible', 'name': 'Гибкий график'}   \n",
       "...                                            ...   \n",
       "1995   {'id': 'flexible', 'name': 'Гибкий график'}   \n",
       "1996      {'id': 'fullDay', 'name': 'Полный день'}   \n",
       "1997      {'id': 'fullDay', 'name': 'Полный день'}   \n",
       "1998     {'id': 'shift', 'name': 'Сменный график'}   \n",
       "1999      {'id': 'fullDay', 'name': 'Полный день'}   \n",
       "\n",
       "                                      employment  \\\n",
       "0     {'id': 'full', 'name': 'Полная занятость'}   \n",
       "1     {'id': 'full', 'name': 'Полная занятость'}   \n",
       "2     {'id': 'full', 'name': 'Полная занятость'}   \n",
       "3     {'id': 'full', 'name': 'Полная занятость'}   \n",
       "4      {'id': 'probation', 'name': 'Стажировка'}   \n",
       "...                                          ...   \n",
       "1995  {'id': 'full', 'name': 'Полная занятость'}   \n",
       "1996  {'id': 'full', 'name': 'Полная занятость'}   \n",
       "1997  {'id': 'full', 'name': 'Полная занятость'}   \n",
       "1998  {'id': 'full', 'name': 'Полная занятость'}   \n",
       "1999  {'id': 'full', 'name': 'Полная занятость'}   \n",
       "\n",
       "                                            description  \\\n",
       "0     <p>Сбер – это не только компания с многолетней...   \n",
       "1     <p>Сбер — лучший работодатель России. У нас бо...   \n",
       "2     <p><strong>Если ты:</strong></p> <ul> <li>легк...   \n",
       "3     <p><strong>Обязанности</strong>:</p> <ul> <li>...   \n",
       "4     <p>Sberseasons – это отличная возможность сове...   \n",
       "...                                                 ...   \n",
       "1995  <p>Специалист по взысканию помогает клиентам, ...   \n",
       "1996  <p><strong>Обязанности:</strong></p> <ul> <li>...   \n",
       "1997  <p>Сбер — лучший работодатель России. У нас бо...   \n",
       "1998  <p><strong>Сбер ищет специалиста, который буде...   \n",
       "1999  <p>Сбербанк Премьер – это особый формат обслуж...   \n",
       "\n",
       "                                                 skills  \\\n",
       "0                                                    []   \n",
       "1                                                    []   \n",
       "2     [{'name': 'Грамотная речь'}, {'name': 'Работа ...   \n",
       "3     [{'name': 'Документооборот'}, {'name': 'Электр...   \n",
       "4     [{'name': 'Python'}, {'name': 'Git'}, {'name':...   \n",
       "...                                                 ...   \n",
       "1995  [{'name': 'Телефонные переговоры'}, {'name': '...   \n",
       "1996                                                 []   \n",
       "1997  [{'name': 'Работа в команде'}, {'name': 'Работ...   \n",
       "1998  [{'name': 'Деловая переписка'}, {'name': 'Дело...   \n",
       "1999                                                 []   \n",
       "\n",
       "                  published_at                created_at  \n",
       "0     2022-03-18T13:41:11+0300  2022-03-18T13:41:11+0300  \n",
       "1     2022-03-09T13:38:12+0300  2022-03-09T13:38:12+0300  \n",
       "2     2022-03-28T09:22:06+0300  2022-03-28T09:22:06+0300  \n",
       "3     2022-03-18T11:24:10+0300  2022-03-18T11:24:10+0300  \n",
       "4     2022-04-01T19:38:14+0300  2022-04-01T19:38:14+0300  \n",
       "...                        ...                       ...  \n",
       "1995  2022-04-04T08:40:54+0300  2022-04-04T08:40:54+0300  \n",
       "1996  2022-04-01T13:17:39+0300  2022-04-01T13:17:39+0300  \n",
       "1997  2022-03-20T09:39:51+0300  2022-03-20T09:39:51+0300  \n",
       "1998  2022-04-01T12:17:01+0300  2022-04-01T12:17:01+0300  \n",
       "1999  2022-03-31T13:49:40+0300  2022-03-31T13:49:40+0300  \n",
       "\n",
       "[2000 rows x 11 columns]"
      ]
     },
     "execution_count": 74,
     "metadata": {},
     "output_type": "execute_result"
    }
   ],
   "source": [
    "# преобразуем список \"all_vacancies_description\" в DataFrame\n",
    "\n",
    "vacancy_df = pd.DataFrame(all_vacancies_description, columns=['id', 'name', 'area', 'salary', 'experience', 'schedule',\n",
    "                                                              'employment', 'description', 'key_skills', 'published_at',\n",
    "                                                             'created_at'])\n",
    "\n",
    "vacancy_df.rename(columns={'key_skills':'skills'}, inplace=True)\n",
    "\n",
    "vacancy_df"
   ]
  },
  {
   "cell_type": "code",
   "execution_count": 76,
   "id": "12d27b26",
   "metadata": {},
   "outputs": [
    {
     "data": {
      "text/plain": [
       "datetime64[ns, pytz.FixedOffset(180)]"
      ]
     },
     "execution_count": 76,
     "metadata": {},
     "output_type": "execute_result"
    }
   ],
   "source": [
    "# переводим даты публикаций в datetime\n",
    "\n",
    "vacancy_df['published_at'] = pd.to_datetime(vacancy_df['published_at'], dayfirst=True)\n",
    "vacancy_df['published_at'].dtype"
   ]
  },
  {
   "cell_type": "code",
   "execution_count": 77,
   "id": "9043937b",
   "metadata": {},
   "outputs": [
    {
     "data": {
      "text/plain": [
       "datetime64[ns, pytz.FixedOffset(180)]"
      ]
     },
     "execution_count": 77,
     "metadata": {},
     "output_type": "execute_result"
    }
   ],
   "source": [
    "# переводим даты создания в datetime\n",
    "\n",
    "vacancy_df['created_at'] = pd.to_datetime(vacancy_df['created_at'], dayfirst=True)\n",
    "vacancy_df['created_at'].dtype"
   ]
  },
  {
   "cell_type": "code",
   "execution_count": 78,
   "id": "98ccc2bf",
   "metadata": {},
   "outputs": [],
   "source": [
    "import matplotlib.pyplot as plt\n",
    "import seaborn as sns"
   ]
  },
  {
   "cell_type": "code",
   "execution_count": null,
   "id": "891c7142",
   "metadata": {},
   "outputs": [],
   "source": [
    "# Постройте график опубликованных вакансий по датам"
   ]
  },
  {
   "cell_type": "code",
   "execution_count": 79,
   "id": "c4b02a79",
   "metadata": {},
   "outputs": [
    {
     "data": {
      "image/png": "[encoded data removed]",
      "text/plain": [
       "<Figure size 432x288 with 1 Axes>"
      ]
     },
     "metadata": {
      "needs_background": "light"
     },
     "output_type": "display_data"
    }
   ],
   "source": [
    "plt.bar(vacancy_df['published_at'], vacancy_df['id'])\n",
    "plt.show()"
   ]
  },
  {
   "cell_type": "code",
   "execution_count": null,
   "id": "f96325aa",
   "metadata": {},
   "outputs": [],
   "source": [
    "# Переведите даты в дни недели, и определите день недели, в который больше всего публикуют вакансий"
   ]
  },
  {
   "cell_type": "code",
   "execution_count": 80,
   "id": "61188905",
   "metadata": {},
   "outputs": [],
   "source": [
    "vacancy_df['day_of_week'] = vacancy_df['published_at'].dt.day_name()"
   ]
  },
  {
   "cell_type": "code",
   "execution_count": 86,
   "id": "01c7d004",
   "metadata": {},
   "outputs": [
    {
     "data": {
      "text/html": [
       "<div>\n",
       "<style scoped>\n",
       "    .dataframe tbody tr th:only-of-type {\n",
       "        vertical-align: middle;\n",
       "    }\n",
       "\n",
       "    .dataframe tbody tr th {\n",
       "        vertical-align: top;\n",
       "    }\n",
       "\n",
       "    .dataframe thead th {\n",
       "        text-align: right;\n",
       "    }\n",
       "</style>\n",
       "<table border=\"1\" class=\"dataframe\">\n",
       "  <thead>\n",
       "    <tr style=\"text-align: right;\">\n",
       "      <th></th>\n",
       "      <th>id</th>\n",
       "    </tr>\n",
       "    <tr>\n",
       "      <th>day_of_week</th>\n",
       "      <th></th>\n",
       "    </tr>\n",
       "  </thead>\n",
       "  <tbody>\n",
       "    <tr>\n",
       "      <th>Monday</th>\n",
       "      <td>534</td>\n",
       "    </tr>\n",
       "    <tr>\n",
       "      <th>Wednesday</th>\n",
       "      <td>480</td>\n",
       "    </tr>\n",
       "    <tr>\n",
       "      <th>Friday</th>\n",
       "      <td>300</td>\n",
       "    </tr>\n",
       "    <tr>\n",
       "      <th>Tuesday</th>\n",
       "      <td>300</td>\n",
       "    </tr>\n",
       "    <tr>\n",
       "      <th>Thursday</th>\n",
       "      <td>246</td>\n",
       "    </tr>\n",
       "    <tr>\n",
       "      <th>Sunday</th>\n",
       "      <td>100</td>\n",
       "    </tr>\n",
       "    <tr>\n",
       "      <th>Saturday</th>\n",
       "      <td>40</td>\n",
       "    </tr>\n",
       "  </tbody>\n",
       "</table>\n",
       "</div>"
      ],
      "text/plain": [
       "              id\n",
       "day_of_week     \n",
       "Monday       534\n",
       "Wednesday    480\n",
       "Friday       300\n",
       "Tuesday      300\n",
       "Thursday     246\n",
       "Sunday       100\n",
       "Saturday      40"
      ]
     },
     "execution_count": 86,
     "metadata": {},
     "output_type": "execute_result"
    }
   ],
   "source": [
    "vacancy_df.groupby('day_of_week').agg({'id':'count'}).sort_values(by='id', ascending=False)"
   ]
  },
  {
   "cell_type": "code",
   "execution_count": null,
   "id": "ef1b04fb",
   "metadata": {},
   "outputs": [],
   "source": [
    "# Найдите те вакансии с использованием python, которые вам интересны"
   ]
  },
  {
   "cell_type": "code",
   "execution_count": 141,
   "id": "5b5b2be4",
   "metadata": {},
   "outputs": [],
   "source": [
    "vac_name_list = vacancy_df['name'].to_list()\n",
    "vac_name_list = [row.upper() for row in vac_name_list]"
   ]
  },
  {
   "cell_type": "code",
   "execution_count": 143,
   "id": "fd1717d1",
   "metadata": {},
   "outputs": [],
   "source": [
    "from collections import Counter"
   ]
  },
  {
   "cell_type": "code",
   "execution_count": 146,
   "id": "49f7064a",
   "metadata": {},
   "outputs": [
    {
     "data": {
      "text/plain": [
       "80"
      ]
     },
     "execution_count": 146,
     "metadata": {},
     "output_type": "execute_result"
    }
   ],
   "source": [
    "vacancies_i_like = [row for row in vac_name_list if row.count('DATA')]\n",
    "len(vacancies_i_like)"
   ]
  },
  {
   "cell_type": "code",
   "execution_count": 147,
   "id": "026c8e64",
   "metadata": {},
   "outputs": [
    {
     "data": {
      "text/plain": [
       "{'DATA SCIENTIST',\n",
       " 'SENIOR DATA ANALYST (В ТРАЙБ «МАССОВАЯ ПЕРСОНАЛИЗАЦИЯ»)',\n",
       " 'СТАЖЁР ПО НАПРАВЛЕНИЮ \"DATA ENGINEERING\" ОТ SBERSEASONS',\n",
       " 'СТАЖЕР DATA SCIENCE'}"
      ]
     },
     "execution_count": 147,
     "metadata": {},
     "output_type": "execute_result"
    }
   ],
   "source": [
    "{row for row in vacancies_i_like}"
   ]
  },
  {
   "cell_type": "code",
   "execution_count": null,
   "id": "9e7af48e",
   "metadata": {},
   "outputs": [],
   "source": [
    "# Определите по полю skills какие навыки больше всего востребованы для этих вакансий, и"
   ]
  },
  {
   "cell_type": "code",
   "execution_count": 187,
   "id": "cd9c0bb5",
   "metadata": {},
   "outputs": [
    {
     "data": {
      "text/plain": [
       "[[{'name': 'Python'},\n",
       "  {'name': 'SQL'},\n",
       "  {'name': 'Математическая статистика'},\n",
       "  {'name': 'Математическое моделирование'},\n",
       "  {'name': 'Big Data'},\n",
       "  {'name': 'Machine Learning'},\n",
       "  {'name': 'Java'},\n",
       "  {'name': 'Исследование данных'}],\n",
       " [],\n",
       " [{'name': 'Python'},\n",
       "  {'name': 'SQL'},\n",
       "  {'name': 'СУБД'},\n",
       "  {'name': 'MS Excel'},\n",
       "  {'name': 'Git'},\n",
       "  {'name': 'Анализ данных'}]]"
      ]
     },
     "execution_count": 187,
     "metadata": {},
     "output_type": "execute_result"
    }
   ],
   "source": [
    "vac_skills = vacancy_df.loc[(vacancy_df['name'].str.contains('Data'))]['skills'].drop_duplicates()\n",
    "vac_skills.to_list()"
   ]
  },
  {
   "cell_type": "code",
   "execution_count": null,
   "id": "a4971a99",
   "metadata": {},
   "outputs": [],
   "source": [
    "# Постройте график наиболее востребованных вакансий"
   ]
  },
  {
   "cell_type": "code",
   "execution_count": 95,
   "id": "1bd5ed4f",
   "metadata": {},
   "outputs": [
    {
     "data": {
      "text/html": [
       "<div>\n",
       "<style scoped>\n",
       "    .dataframe tbody tr th:only-of-type {\n",
       "        vertical-align: middle;\n",
       "    }\n",
       "\n",
       "    .dataframe tbody tr th {\n",
       "        vertical-align: top;\n",
       "    }\n",
       "\n",
       "    .dataframe thead th {\n",
       "        text-align: right;\n",
       "    }\n",
       "</style>\n",
       "<table border=\"1\" class=\"dataframe\">\n",
       "  <thead>\n",
       "    <tr style=\"text-align: right;\">\n",
       "      <th></th>\n",
       "      <th>id</th>\n",
       "    </tr>\n",
       "    <tr>\n",
       "      <th>name</th>\n",
       "      <th></th>\n",
       "    </tr>\n",
       "  </thead>\n",
       "  <tbody>\n",
       "    <tr>\n",
       "      <th>Старший клиентский менеджер</th>\n",
       "      <td>120</td>\n",
       "    </tr>\n",
       "    <tr>\n",
       "      <th>Сбер Агент</th>\n",
       "      <td>80</td>\n",
       "    </tr>\n",
       "    <tr>\n",
       "      <th>Финансовый консультант</th>\n",
       "      <td>80</td>\n",
       "    </tr>\n",
       "    <tr>\n",
       "      <th>Старший менеджер по обслуживанию</th>\n",
       "      <td>60</td>\n",
       "    </tr>\n",
       "    <tr>\n",
       "      <th>Специалист контактного центра</th>\n",
       "      <td>60</td>\n",
       "    </tr>\n",
       "    <tr>\n",
       "      <th>Специалист технической поддержки</th>\n",
       "      <td>60</td>\n",
       "    </tr>\n",
       "    <tr>\n",
       "      <th>Клиентский менеджер</th>\n",
       "      <td>60</td>\n",
       "    </tr>\n",
       "    <tr>\n",
       "      <th>Менеджер по работе с ключевыми клиентами малого бизнеса</th>\n",
       "      <td>54</td>\n",
       "    </tr>\n",
       "    <tr>\n",
       "      <th>Клиентский менеджер Сбербанк Премьер</th>\n",
       "      <td>46</td>\n",
       "    </tr>\n",
       "    <tr>\n",
       "      <th>Охранник</th>\n",
       "      <td>40</td>\n",
       "    </tr>\n",
       "  </tbody>\n",
       "</table>\n",
       "</div>"
      ],
      "text/plain": [
       "                                                     id\n",
       "name                                                   \n",
       "Старший клиентский менеджер                         120\n",
       "Сбер Агент                                           80\n",
       "Финансовый консультант                               80\n",
       "Старший менеджер по обслуживанию                     60\n",
       "Специалист контактного центра                        60\n",
       "Специалист технической поддержки                     60\n",
       "Клиентский менеджер                                  60\n",
       "Менеджер по работе с ключевыми клиентами малого...   54\n",
       "Клиентский менеджер Сбербанк Премьер                 46\n",
       "Охранник                                             40"
      ]
     },
     "execution_count": 95,
     "metadata": {},
     "output_type": "execute_result"
    }
   ],
   "source": [
    "most_required_vac = vacancy_df.groupby('name').agg({'id':'count'}).sort_values(by='id', ascending=False)\n",
    "most_required_vac.head(10)"
   ]
  },
  {
   "cell_type": "code",
   "execution_count": 127,
   "id": "bcd8ed5b",
   "metadata": {},
   "outputs": [
    {
     "data": {
      "image/png": "[encoded data removed]",
      "text/plain": [
       "<Figure size 432x288 with 1 Axes>"
      ]
     },
     "metadata": {},
     "output_type": "display_data"
    }
   ],
   "source": [
    "most_required_vac.head(7).plot.pie(subplots=True)\n",
    "plt.axis('equal')\n",
    "plt.legend(loc='lower left', bbox_to_anchor=(0.5, -0.04), ncol=2)\n",
    "plt.show()"
   ]
  }
 ],
 "metadata": {
  "kernelspec": {
   "display_name": "Python 3 (ipykernel)",
   "language": "python",
   "name": "python3"
  },
  "language_info": {
   "codemirror_mode": {
    "name": "ipython",
    "version": 3
   },
   "file_extension": ".py",
   "mimetype": "text/x-python",
   "name": "python",
   "nbconvert_exporter": "python",
   "pygments_lexer": "ipython3",
   "version": "3.9.7"
  },
  "toc": {
   "base_numbering": 1,
   "nav_menu": {},
   "number_sections": true,
   "sideBar": true,
   "skip_h1_title": false,
   "title_cell": "Table of Contents",
   "title_sidebar": "Contents",
   "toc_cell": false,
   "toc_position": {},
   "toc_section_display": true,
   "toc_window_display": false
  }
 },
 "nbformat": 4,
 "nbformat_minor": 5
}
